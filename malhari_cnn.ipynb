{
 "cells": [
  {
   "cell_type": "code",
   "id": "initial_id",
   "metadata": {
    "collapsed": true,
    "ExecuteTime": {
     "end_time": "2024-12-11T15:07:40.763276Z",
     "start_time": "2024-12-11T15:07:40.759404Z"
    }
   },
   "source": [
    "# Image and training parameters\n",
    "IMAGE_WIDTH = 224\n",
    "IMAGE_HEIGHT = 224\n",
    "IMAGE_SIZE = (IMAGE_WIDTH, IMAGE_HEIGHT)\n",
    "IMAGE_CHANNELS = 3\n",
    "BATCH_SIZE = 32\n",
    "EPOCHS = 50\n",
    "DATA_SOURCE_TRAIN = 'data/malhari/train'\n",
    "DATA_SOURCE_TEST = 'data/malhari/test'\n"
   ],
   "outputs": [],
   "execution_count": 10
  },
  {
   "metadata": {
    "ExecuteTime": {
     "end_time": "2024-12-11T15:07:40.793067Z",
     "start_time": "2024-12-11T15:07:40.784713Z"
    }
   },
   "cell_type": "code",
   "source": [
    "import matplotlib.pyplot as plt\n",
    "\n",
    "def show_model_performance(history):\n",
    "    acc = history['accuracy']\n",
    "    val_acc = history['val_accuracy']\n",
    "    loss = history['loss']\n",
    "    val_loss = history['val_loss']\n",
    "\n",
    "    plt.figure(figsize=(12, 5))\n",
    "\n",
    "    plt.subplot(1, 2, 1)\n",
    "    plt.plot(acc, label='Training')\n",
    "    plt.plot(val_acc, label='Validation')\n",
    "    plt.title('Model Accuracy')\n",
    "    plt.xlabel('Epoch')\n",
    "    plt.ylabel('Accuracy')\n",
    "    plt.legend()\n",
    "\n",
    "    plt.subplot(1, 2, 2)\n",
    "    plt.plot(loss, label='Training')\n",
    "    plt.plot(val_loss, label='Validation')\n",
    "    plt.title('Model Loss')\n",
    "    plt.xlabel('Epoch')\n",
    "    plt.ylabel('Loss')\n",
    "    plt.legend()\n",
    "\n",
    "    plt.tight_layout()\n",
    "    plt.show()"
   ],
   "id": "28be38b49df1ebd8",
   "outputs": [],
   "execution_count": 11
  },
  {
   "metadata": {
    "ExecuteTime": {
     "end_time": "2024-12-11T15:07:41.323523Z",
     "start_time": "2024-12-11T15:07:40.823217Z"
    }
   },
   "cell_type": "code",
   "source": [
    "import tensorflow as tf\n",
    "# Create training dataset\n",
    "train_ds = tf.keras.utils.image_dataset_from_directory(\n",
    "    DATA_SOURCE_TRAIN,\n",
    "    seed=123,\n",
    "    image_size=IMAGE_SIZE,\n",
    "    batch_size=BATCH_SIZE\n",
    ")\n",
    "\n",
    "# Create validation dataset\n",
    "val_ds = tf.keras.utils.image_dataset_from_directory(\n",
    "    DATA_SOURCE_TEST,\n",
    "    seed=123,\n",
    "    image_size=IMAGE_SIZE,\n",
    "    batch_size=BATCH_SIZE\n",
    ")\n",
    "\n",
    "class_names = train_ds.class_names"
   ],
   "id": "a5605bdfbb1ec3c5",
   "outputs": [
    {
     "name": "stdout",
     "output_type": "stream",
     "text": [
      "Found 2630 files belonging to 3 classes.\n",
      "Found 297 files belonging to 3 classes.\n"
     ]
    }
   ],
   "execution_count": 12
  },
  {
   "metadata": {
    "ExecuteTime": {
     "end_time": "2024-12-11T15:07:41.345764Z",
     "start_time": "2024-12-11T15:07:41.330577Z"
    }
   },
   "cell_type": "code",
   "source": [
    "# Enable prefetching\n",
    "AUTOTUNE = tf.data.AUTOTUNE\n",
    "\n",
    "train_ds = train_ds.cache().shuffle(1000).prefetch(buffer_size=AUTOTUNE)\n",
    "val_ds = val_ds.cache().prefetch(buffer_size=AUTOTUNE)"
   ],
   "id": "4fd0251818431f11",
   "outputs": [],
   "execution_count": 13
  },
  {
   "metadata": {
    "ExecuteTime": {
     "end_time": "2024-12-11T15:07:41.392502Z",
     "start_time": "2024-12-11T15:07:41.363499Z"
    }
   },
   "cell_type": "code",
   "source": [
    "from tensorflow.keras import layers, regularizers\n",
    "\n",
    "data_augmentation = tf.keras.Sequential([\n",
    "    layers.RandomFlip(\"horizontal\"),\n",
    "    layers.RandomFlip(\"vertical\"),\n",
    "    layers.RandomRotation(0.2),\n",
    "    layers.RandomZoom(0.2),\n",
    "    layers.RandomBrightness(0.2),\n",
    "    layers.RandomContrast(0.2),\n",
    "    layers.GaussianNoise(0.1)\n",
    "])"
   ],
   "id": "d744a7f56da24b48",
   "outputs": [],
   "execution_count": 14
  },
  {
   "metadata": {
    "ExecuteTime": {
     "end_time": "2024-12-11T15:07:41.462597Z",
     "start_time": "2024-12-11T15:07:41.421903Z"
    }
   },
   "cell_type": "code",
   "source": [
    "from tensorflow.keras.models import Sequential\n",
    "\n",
    "num_classes = len(class_names)\n",
    "\n",
    "model = Sequential([\n",
    "    data_augmentation,\n",
    "    layers.Rescaling(1./255),\n",
    "\n",
    "    # First conv block\n",
    "    layers.Conv2D(32, 3, padding='same', activation='relu',\n",
    "                 kernel_regularizer=regularizers.l2(0.01)),\n",
    "    layers.BatchNormalization(),\n",
    "    layers.MaxPooling2D(),\n",
    "    layers.Dropout(0.25),\n",
    "\n",
    "    # Second conv block\n",
    "    layers.Conv2D(64, 3, padding='same', activation='relu',\n",
    "                 kernel_regularizer=regularizers.l2(0.01)),\n",
    "    layers.BatchNormalization(),\n",
    "    layers.MaxPooling2D(),\n",
    "    layers.Dropout(0.25),\n",
    "\n",
    "    # Third conv block\n",
    "    layers.Conv2D(128, 3, padding='same', activation='relu',\n",
    "                 kernel_regularizer=regularizers.l2(0.01)),\n",
    "    layers.BatchNormalization(),\n",
    "    layers.MaxPooling2D(),\n",
    "    layers.Dropout(0.25),\n",
    "\n",
    "    # Dense layers\n",
    "    layers.Flatten(),\n",
    "    layers.Dense(512, activation='relu',\n",
    "                kernel_regularizer=regularizers.l2(0.01)),\n",
    "    layers.BatchNormalization(),\n",
    "    layers.Dropout(0.5),\n",
    "    layers.Dense(256, activation='relu',\n",
    "                kernel_regularizer=regularizers.l2(0.01)),\n",
    "    layers.BatchNormalization(),\n",
    "    layers.Dropout(0.5),\n",
    "    layers.Dense(num_classes, activation='softmax')\n",
    "])"
   ],
   "id": "e5f6308977087043",
   "outputs": [],
   "execution_count": 15
  },
  {
   "metadata": {
    "ExecuteTime": {
     "end_time": "2024-12-11T15:07:41.518430Z",
     "start_time": "2024-12-11T15:07:41.469101Z"
    }
   },
   "cell_type": "code",
   "source": [
    "# Compile model\n",
    "model.compile(\n",
    "    optimizer='adam',\n",
    "    loss=tf.keras.losses.SparseCategoricalCrossentropy(),\n",
    "    metrics=['accuracy']\n",
    ")\n",
    "\n",
    "model.summary()"
   ],
   "id": "8b30c11687225353",
   "outputs": [
    {
     "data": {
      "text/plain": [
       "\u001B[1mModel: \"sequential_4\"\u001B[0m\n"
      ],
      "text/html": [
       "<pre style=\"white-space:pre;overflow-x:auto;line-height:normal;font-family:Menlo,'DejaVu Sans Mono',consolas,'Courier New',monospace\"><span style=\"font-weight: bold\">Model: \"sequential_4\"</span>\n",
       "</pre>\n"
      ]
     },
     "metadata": {},
     "output_type": "display_data"
    },
    {
     "data": {
      "text/plain": [
       "┏━━━━━━━━━━━━━━━━━━━━━━━━━━━━━━━━━┳━━━━━━━━━━━━━━━━━━━━━━━━┳━━━━━━━━━━━━━━━┓\n",
       "┃\u001B[1m \u001B[0m\u001B[1mLayer (type)                   \u001B[0m\u001B[1m \u001B[0m┃\u001B[1m \u001B[0m\u001B[1mOutput Shape          \u001B[0m\u001B[1m \u001B[0m┃\u001B[1m \u001B[0m\u001B[1m      Param #\u001B[0m\u001B[1m \u001B[0m┃\n",
       "┡━━━━━━━━━━━━━━━━━━━━━━━━━━━━━━━━━╇━━━━━━━━━━━━━━━━━━━━━━━━╇━━━━━━━━━━━━━━━┩\n",
       "│ sequential_3 (\u001B[38;5;33mSequential\u001B[0m)       │ ?                      │   \u001B[38;5;34m0\u001B[0m (unbuilt) │\n",
       "├─────────────────────────────────┼────────────────────────┼───────────────┤\n",
       "│ rescaling_1 (\u001B[38;5;33mRescaling\u001B[0m)         │ ?                      │   \u001B[38;5;34m0\u001B[0m (unbuilt) │\n",
       "├─────────────────────────────────┼────────────────────────┼───────────────┤\n",
       "│ conv2d_3 (\u001B[38;5;33mConv2D\u001B[0m)               │ ?                      │   \u001B[38;5;34m0\u001B[0m (unbuilt) │\n",
       "├─────────────────────────────────┼────────────────────────┼───────────────┤\n",
       "│ batch_normalization_5           │ ?                      │   \u001B[38;5;34m0\u001B[0m (unbuilt) │\n",
       "│ (\u001B[38;5;33mBatchNormalization\u001B[0m)            │                        │               │\n",
       "├─────────────────────────────────┼────────────────────────┼───────────────┤\n",
       "│ max_pooling2d_3 (\u001B[38;5;33mMaxPooling2D\u001B[0m)  │ ?                      │             \u001B[38;5;34m0\u001B[0m │\n",
       "├─────────────────────────────────┼────────────────────────┼───────────────┤\n",
       "│ dropout_5 (\u001B[38;5;33mDropout\u001B[0m)             │ ?                      │             \u001B[38;5;34m0\u001B[0m │\n",
       "├─────────────────────────────────┼────────────────────────┼───────────────┤\n",
       "│ conv2d_4 (\u001B[38;5;33mConv2D\u001B[0m)               │ ?                      │   \u001B[38;5;34m0\u001B[0m (unbuilt) │\n",
       "├─────────────────────────────────┼────────────────────────┼───────────────┤\n",
       "│ batch_normalization_6           │ ?                      │   \u001B[38;5;34m0\u001B[0m (unbuilt) │\n",
       "│ (\u001B[38;5;33mBatchNormalization\u001B[0m)            │                        │               │\n",
       "├─────────────────────────────────┼────────────────────────┼───────────────┤\n",
       "│ max_pooling2d_4 (\u001B[38;5;33mMaxPooling2D\u001B[0m)  │ ?                      │             \u001B[38;5;34m0\u001B[0m │\n",
       "├─────────────────────────────────┼────────────────────────┼───────────────┤\n",
       "│ dropout_6 (\u001B[38;5;33mDropout\u001B[0m)             │ ?                      │             \u001B[38;5;34m0\u001B[0m │\n",
       "├─────────────────────────────────┼────────────────────────┼───────────────┤\n",
       "│ conv2d_5 (\u001B[38;5;33mConv2D\u001B[0m)               │ ?                      │   \u001B[38;5;34m0\u001B[0m (unbuilt) │\n",
       "├─────────────────────────────────┼────────────────────────┼───────────────┤\n",
       "│ batch_normalization_7           │ ?                      │   \u001B[38;5;34m0\u001B[0m (unbuilt) │\n",
       "│ (\u001B[38;5;33mBatchNormalization\u001B[0m)            │                        │               │\n",
       "├─────────────────────────────────┼────────────────────────┼───────────────┤\n",
       "│ max_pooling2d_5 (\u001B[38;5;33mMaxPooling2D\u001B[0m)  │ ?                      │             \u001B[38;5;34m0\u001B[0m │\n",
       "├─────────────────────────────────┼────────────────────────┼───────────────┤\n",
       "│ dropout_7 (\u001B[38;5;33mDropout\u001B[0m)             │ ?                      │             \u001B[38;5;34m0\u001B[0m │\n",
       "├─────────────────────────────────┼────────────────────────┼───────────────┤\n",
       "│ flatten_1 (\u001B[38;5;33mFlatten\u001B[0m)             │ ?                      │   \u001B[38;5;34m0\u001B[0m (unbuilt) │\n",
       "├─────────────────────────────────┼────────────────────────┼───────────────┤\n",
       "│ dense_3 (\u001B[38;5;33mDense\u001B[0m)                 │ ?                      │   \u001B[38;5;34m0\u001B[0m (unbuilt) │\n",
       "├─────────────────────────────────┼────────────────────────┼───────────────┤\n",
       "│ batch_normalization_8           │ ?                      │   \u001B[38;5;34m0\u001B[0m (unbuilt) │\n",
       "│ (\u001B[38;5;33mBatchNormalization\u001B[0m)            │                        │               │\n",
       "├─────────────────────────────────┼────────────────────────┼───────────────┤\n",
       "│ dropout_8 (\u001B[38;5;33mDropout\u001B[0m)             │ ?                      │             \u001B[38;5;34m0\u001B[0m │\n",
       "├─────────────────────────────────┼────────────────────────┼───────────────┤\n",
       "│ dense_4 (\u001B[38;5;33mDense\u001B[0m)                 │ ?                      │   \u001B[38;5;34m0\u001B[0m (unbuilt) │\n",
       "├─────────────────────────────────┼────────────────────────┼───────────────┤\n",
       "│ batch_normalization_9           │ ?                      │   \u001B[38;5;34m0\u001B[0m (unbuilt) │\n",
       "│ (\u001B[38;5;33mBatchNormalization\u001B[0m)            │                        │               │\n",
       "├─────────────────────────────────┼────────────────────────┼───────────────┤\n",
       "│ dropout_9 (\u001B[38;5;33mDropout\u001B[0m)             │ ?                      │             \u001B[38;5;34m0\u001B[0m │\n",
       "├─────────────────────────────────┼────────────────────────┼───────────────┤\n",
       "│ dense_5 (\u001B[38;5;33mDense\u001B[0m)                 │ ?                      │   \u001B[38;5;34m0\u001B[0m (unbuilt) │\n",
       "└─────────────────────────────────┴────────────────────────┴───────────────┘\n"
      ],
      "text/html": [
       "<pre style=\"white-space:pre;overflow-x:auto;line-height:normal;font-family:Menlo,'DejaVu Sans Mono',consolas,'Courier New',monospace\">┏━━━━━━━━━━━━━━━━━━━━━━━━━━━━━━━━━┳━━━━━━━━━━━━━━━━━━━━━━━━┳━━━━━━━━━━━━━━━┓\n",
       "┃<span style=\"font-weight: bold\"> Layer (type)                    </span>┃<span style=\"font-weight: bold\"> Output Shape           </span>┃<span style=\"font-weight: bold\">       Param # </span>┃\n",
       "┡━━━━━━━━━━━━━━━━━━━━━━━━━━━━━━━━━╇━━━━━━━━━━━━━━━━━━━━━━━━╇━━━━━━━━━━━━━━━┩\n",
       "│ sequential_3 (<span style=\"color: #0087ff; text-decoration-color: #0087ff\">Sequential</span>)       │ ?                      │   <span style=\"color: #00af00; text-decoration-color: #00af00\">0</span> (unbuilt) │\n",
       "├─────────────────────────────────┼────────────────────────┼───────────────┤\n",
       "│ rescaling_1 (<span style=\"color: #0087ff; text-decoration-color: #0087ff\">Rescaling</span>)         │ ?                      │   <span style=\"color: #00af00; text-decoration-color: #00af00\">0</span> (unbuilt) │\n",
       "├─────────────────────────────────┼────────────────────────┼───────────────┤\n",
       "│ conv2d_3 (<span style=\"color: #0087ff; text-decoration-color: #0087ff\">Conv2D</span>)               │ ?                      │   <span style=\"color: #00af00; text-decoration-color: #00af00\">0</span> (unbuilt) │\n",
       "├─────────────────────────────────┼────────────────────────┼───────────────┤\n",
       "│ batch_normalization_5           │ ?                      │   <span style=\"color: #00af00; text-decoration-color: #00af00\">0</span> (unbuilt) │\n",
       "│ (<span style=\"color: #0087ff; text-decoration-color: #0087ff\">BatchNormalization</span>)            │                        │               │\n",
       "├─────────────────────────────────┼────────────────────────┼───────────────┤\n",
       "│ max_pooling2d_3 (<span style=\"color: #0087ff; text-decoration-color: #0087ff\">MaxPooling2D</span>)  │ ?                      │             <span style=\"color: #00af00; text-decoration-color: #00af00\">0</span> │\n",
       "├─────────────────────────────────┼────────────────────────┼───────────────┤\n",
       "│ dropout_5 (<span style=\"color: #0087ff; text-decoration-color: #0087ff\">Dropout</span>)             │ ?                      │             <span style=\"color: #00af00; text-decoration-color: #00af00\">0</span> │\n",
       "├─────────────────────────────────┼────────────────────────┼───────────────┤\n",
       "│ conv2d_4 (<span style=\"color: #0087ff; text-decoration-color: #0087ff\">Conv2D</span>)               │ ?                      │   <span style=\"color: #00af00; text-decoration-color: #00af00\">0</span> (unbuilt) │\n",
       "├─────────────────────────────────┼────────────────────────┼───────────────┤\n",
       "│ batch_normalization_6           │ ?                      │   <span style=\"color: #00af00; text-decoration-color: #00af00\">0</span> (unbuilt) │\n",
       "│ (<span style=\"color: #0087ff; text-decoration-color: #0087ff\">BatchNormalization</span>)            │                        │               │\n",
       "├─────────────────────────────────┼────────────────────────┼───────────────┤\n",
       "│ max_pooling2d_4 (<span style=\"color: #0087ff; text-decoration-color: #0087ff\">MaxPooling2D</span>)  │ ?                      │             <span style=\"color: #00af00; text-decoration-color: #00af00\">0</span> │\n",
       "├─────────────────────────────────┼────────────────────────┼───────────────┤\n",
       "│ dropout_6 (<span style=\"color: #0087ff; text-decoration-color: #0087ff\">Dropout</span>)             │ ?                      │             <span style=\"color: #00af00; text-decoration-color: #00af00\">0</span> │\n",
       "├─────────────────────────────────┼────────────────────────┼───────────────┤\n",
       "│ conv2d_5 (<span style=\"color: #0087ff; text-decoration-color: #0087ff\">Conv2D</span>)               │ ?                      │   <span style=\"color: #00af00; text-decoration-color: #00af00\">0</span> (unbuilt) │\n",
       "├─────────────────────────────────┼────────────────────────┼───────────────┤\n",
       "│ batch_normalization_7           │ ?                      │   <span style=\"color: #00af00; text-decoration-color: #00af00\">0</span> (unbuilt) │\n",
       "│ (<span style=\"color: #0087ff; text-decoration-color: #0087ff\">BatchNormalization</span>)            │                        │               │\n",
       "├─────────────────────────────────┼────────────────────────┼───────────────┤\n",
       "│ max_pooling2d_5 (<span style=\"color: #0087ff; text-decoration-color: #0087ff\">MaxPooling2D</span>)  │ ?                      │             <span style=\"color: #00af00; text-decoration-color: #00af00\">0</span> │\n",
       "├─────────────────────────────────┼────────────────────────┼───────────────┤\n",
       "│ dropout_7 (<span style=\"color: #0087ff; text-decoration-color: #0087ff\">Dropout</span>)             │ ?                      │             <span style=\"color: #00af00; text-decoration-color: #00af00\">0</span> │\n",
       "├─────────────────────────────────┼────────────────────────┼───────────────┤\n",
       "│ flatten_1 (<span style=\"color: #0087ff; text-decoration-color: #0087ff\">Flatten</span>)             │ ?                      │   <span style=\"color: #00af00; text-decoration-color: #00af00\">0</span> (unbuilt) │\n",
       "├─────────────────────────────────┼────────────────────────┼───────────────┤\n",
       "│ dense_3 (<span style=\"color: #0087ff; text-decoration-color: #0087ff\">Dense</span>)                 │ ?                      │   <span style=\"color: #00af00; text-decoration-color: #00af00\">0</span> (unbuilt) │\n",
       "├─────────────────────────────────┼────────────────────────┼───────────────┤\n",
       "│ batch_normalization_8           │ ?                      │   <span style=\"color: #00af00; text-decoration-color: #00af00\">0</span> (unbuilt) │\n",
       "│ (<span style=\"color: #0087ff; text-decoration-color: #0087ff\">BatchNormalization</span>)            │                        │               │\n",
       "├─────────────────────────────────┼────────────────────────┼───────────────┤\n",
       "│ dropout_8 (<span style=\"color: #0087ff; text-decoration-color: #0087ff\">Dropout</span>)             │ ?                      │             <span style=\"color: #00af00; text-decoration-color: #00af00\">0</span> │\n",
       "├─────────────────────────────────┼────────────────────────┼───────────────┤\n",
       "│ dense_4 (<span style=\"color: #0087ff; text-decoration-color: #0087ff\">Dense</span>)                 │ ?                      │   <span style=\"color: #00af00; text-decoration-color: #00af00\">0</span> (unbuilt) │\n",
       "├─────────────────────────────────┼────────────────────────┼───────────────┤\n",
       "│ batch_normalization_9           │ ?                      │   <span style=\"color: #00af00; text-decoration-color: #00af00\">0</span> (unbuilt) │\n",
       "│ (<span style=\"color: #0087ff; text-decoration-color: #0087ff\">BatchNormalization</span>)            │                        │               │\n",
       "├─────────────────────────────────┼────────────────────────┼───────────────┤\n",
       "│ dropout_9 (<span style=\"color: #0087ff; text-decoration-color: #0087ff\">Dropout</span>)             │ ?                      │             <span style=\"color: #00af00; text-decoration-color: #00af00\">0</span> │\n",
       "├─────────────────────────────────┼────────────────────────┼───────────────┤\n",
       "│ dense_5 (<span style=\"color: #0087ff; text-decoration-color: #0087ff\">Dense</span>)                 │ ?                      │   <span style=\"color: #00af00; text-decoration-color: #00af00\">0</span> (unbuilt) │\n",
       "└─────────────────────────────────┴────────────────────────┴───────────────┘\n",
       "</pre>\n"
      ]
     },
     "metadata": {},
     "output_type": "display_data"
    },
    {
     "data": {
      "text/plain": [
       "\u001B[1m Total params: \u001B[0m\u001B[38;5;34m0\u001B[0m (0.00 B)\n"
      ],
      "text/html": [
       "<pre style=\"white-space:pre;overflow-x:auto;line-height:normal;font-family:Menlo,'DejaVu Sans Mono',consolas,'Courier New',monospace\"><span style=\"font-weight: bold\"> Total params: </span><span style=\"color: #00af00; text-decoration-color: #00af00\">0</span> (0.00 B)\n",
       "</pre>\n"
      ]
     },
     "metadata": {},
     "output_type": "display_data"
    },
    {
     "data": {
      "text/plain": [
       "\u001B[1m Trainable params: \u001B[0m\u001B[38;5;34m0\u001B[0m (0.00 B)\n"
      ],
      "text/html": [
       "<pre style=\"white-space:pre;overflow-x:auto;line-height:normal;font-family:Menlo,'DejaVu Sans Mono',consolas,'Courier New',monospace\"><span style=\"font-weight: bold\"> Trainable params: </span><span style=\"color: #00af00; text-decoration-color: #00af00\">0</span> (0.00 B)\n",
       "</pre>\n"
      ]
     },
     "metadata": {},
     "output_type": "display_data"
    },
    {
     "data": {
      "text/plain": [
       "\u001B[1m Non-trainable params: \u001B[0m\u001B[38;5;34m0\u001B[0m (0.00 B)\n"
      ],
      "text/html": [
       "<pre style=\"white-space:pre;overflow-x:auto;line-height:normal;font-family:Menlo,'DejaVu Sans Mono',consolas,'Courier New',monospace\"><span style=\"font-weight: bold\"> Non-trainable params: </span><span style=\"color: #00af00; text-decoration-color: #00af00\">0</span> (0.00 B)\n",
       "</pre>\n"
      ]
     },
     "metadata": {},
     "output_type": "display_data"
    }
   ],
   "execution_count": 16
  },
  {
   "metadata": {
    "ExecuteTime": {
     "end_time": "2024-12-11T15:07:41.548074Z",
     "start_time": "2024-12-11T15:07:41.541510Z"
    }
   },
   "cell_type": "code",
   "source": [
    "from tensorflow.keras.callbacks import ModelCheckpoint, EarlyStopping, ReduceLROnPlateau\n",
    "\n",
    "callbacks = [\n",
    "    ModelCheckpoint(\n",
    "        'checkpoints/malhari_cnn_best_model.keras',\n",
    "        monitor='val_loss',\n",
    "        save_best_only=True,\n",
    "        mode='min',\n",
    "        verbose=1\n",
    "    ),\n",
    "    EarlyStopping(\n",
    "        monitor='val_loss',\n",
    "        patience=10,\n",
    "        restore_best_weights=True,\n",
    "        verbose=1\n",
    "    ),\n",
    "    ReduceLROnPlateau(\n",
    "        monitor='val_loss',\n",
    "        factor=0.2,\n",
    "        patience=5,\n",
    "        min_lr=1e-6,\n",
    "        verbose=1\n",
    "    )\n",
    "]"
   ],
   "id": "6e8f8e84d3480cd8",
   "outputs": [],
   "execution_count": 17
  },
  {
   "metadata": {
    "ExecuteTime": {
     "end_time": "2024-12-11T18:40:04.029849Z",
     "start_time": "2024-12-11T15:07:41.565428Z"
    }
   },
   "cell_type": "code",
   "source": [
    "history = model.fit(\n",
    "    train_ds,\n",
    "    validation_data=val_ds,\n",
    "    epochs=EPOCHS,\n",
    "    callbacks=callbacks\n",
    ")"
   ],
   "id": "cc1b618f8f19bff",
   "outputs": [
    {
     "name": "stdout",
     "output_type": "stream",
     "text": [
      "Epoch 1/50\n",
      "\u001B[1m83/83\u001B[0m \u001B[32m━━━━━━━━━━━━━━━━━━━━\u001B[0m\u001B[37m\u001B[0m \u001B[1m0s\u001B[0m 3s/step - accuracy: 0.4304 - loss: 21.4814\n",
      "Epoch 1: val_loss improved from inf to 16.57854, saving model to checkpoints/malhari_cnn_best_model.keras\n",
      "\u001B[1m83/83\u001B[0m \u001B[32m━━━━━━━━━━━━━━━━━━━━\u001B[0m\u001B[37m\u001B[0m \u001B[1m260s\u001B[0m 3s/step - accuracy: 0.4308 - loss: 21.4634 - val_accuracy: 0.3300 - val_loss: 16.5785 - learning_rate: 0.0010\n",
      "Epoch 2/50\n",
      "\u001B[1m83/83\u001B[0m \u001B[32m━━━━━━━━━━━━━━━━━━━━\u001B[0m\u001B[37m\u001B[0m \u001B[1m0s\u001B[0m 3s/step - accuracy: 0.4566 - loss: 11.6442\n",
      "Epoch 2: val_loss improved from 16.57854 to 10.45131, saving model to checkpoints/malhari_cnn_best_model.keras\n",
      "\u001B[1m83/83\u001B[0m \u001B[32m━━━━━━━━━━━━━━━━━━━━\u001B[0m\u001B[37m\u001B[0m \u001B[1m240s\u001B[0m 3s/step - accuracy: 0.4567 - loss: 11.6287 - val_accuracy: 0.3300 - val_loss: 10.4513 - learning_rate: 0.0010\n",
      "Epoch 3/50\n",
      "\u001B[1m83/83\u001B[0m \u001B[32m━━━━━━━━━━━━━━━━━━━━\u001B[0m\u001B[37m\u001B[0m \u001B[1m0s\u001B[0m 3s/step - accuracy: 0.4680 - loss: 8.5263\n",
      "Epoch 3: val_loss improved from 10.45131 to 7.18638, saving model to checkpoints/malhari_cnn_best_model.keras\n",
      "\u001B[1m83/83\u001B[0m \u001B[32m━━━━━━━━━━━━━━━━━━━━\u001B[0m\u001B[37m\u001B[0m \u001B[1m243s\u001B[0m 3s/step - accuracy: 0.4681 - loss: 8.5209 - val_accuracy: 0.3300 - val_loss: 7.1864 - learning_rate: 0.0010\n",
      "Epoch 4/50\n",
      "\u001B[1m83/83\u001B[0m \u001B[32m━━━━━━━━━━━━━━━━━━━━\u001B[0m\u001B[37m\u001B[0m \u001B[1m0s\u001B[0m 3s/step - accuracy: 0.4868 - loss: 6.4317\n",
      "Epoch 4: val_loss improved from 7.18638 to 7.07762, saving model to checkpoints/malhari_cnn_best_model.keras\n",
      "\u001B[1m83/83\u001B[0m \u001B[32m━━━━━━━━━━━━━━━━━━━━\u001B[0m\u001B[37m\u001B[0m \u001B[1m270s\u001B[0m 3s/step - accuracy: 0.4868 - loss: 6.4310 - val_accuracy: 0.3300 - val_loss: 7.0776 - learning_rate: 0.0010\n",
      "Epoch 5/50\n",
      "\u001B[1m83/83\u001B[0m \u001B[32m━━━━━━━━━━━━━━━━━━━━\u001B[0m\u001B[37m\u001B[0m \u001B[1m0s\u001B[0m 3s/step - accuracy: 0.4884 - loss: 6.0317\n",
      "Epoch 5: val_loss improved from 7.07762 to 4.79286, saving model to checkpoints/malhari_cnn_best_model.keras\n",
      "\u001B[1m83/83\u001B[0m \u001B[32m━━━━━━━━━━━━━━━━━━━━\u001B[0m\u001B[37m\u001B[0m \u001B[1m241s\u001B[0m 3s/step - accuracy: 0.4886 - loss: 6.0265 - val_accuracy: 0.4343 - val_loss: 4.7929 - learning_rate: 0.0010\n",
      "Epoch 6/50\n",
      "\u001B[1m83/83\u001B[0m \u001B[32m━━━━━━━━━━━━━━━━━━━━\u001B[0m\u001B[37m\u001B[0m \u001B[1m0s\u001B[0m 3s/step - accuracy: 0.5919 - loss: 4.6609\n",
      "Epoch 6: val_loss improved from 4.79286 to 4.65336, saving model to checkpoints/malhari_cnn_best_model.keras\n",
      "\u001B[1m83/83\u001B[0m \u001B[32m━━━━━━━━━━━━━━━━━━━━\u001B[0m\u001B[37m\u001B[0m \u001B[1m255s\u001B[0m 3s/step - accuracy: 0.5914 - loss: 4.6643 - val_accuracy: 0.4815 - val_loss: 4.6534 - learning_rate: 0.0010\n",
      "Epoch 7/50\n",
      "\u001B[1m83/83\u001B[0m \u001B[32m━━━━━━━━━━━━━━━━━━━━\u001B[0m\u001B[37m\u001B[0m \u001B[1m0s\u001B[0m 3s/step - accuracy: 0.5901 - loss: 4.2420\n",
      "Epoch 7: val_loss did not improve from 4.65336\n",
      "\u001B[1m83/83\u001B[0m \u001B[32m━━━━━━━━━━━━━━━━━━━━\u001B[0m\u001B[37m\u001B[0m \u001B[1m228s\u001B[0m 3s/step - accuracy: 0.5898 - loss: 4.2429 - val_accuracy: 0.5657 - val_loss: 5.1137 - learning_rate: 0.0010\n",
      "Epoch 8/50\n",
      "\u001B[1m83/83\u001B[0m \u001B[32m━━━━━━━━━━━━━━━━━━━━\u001B[0m\u001B[37m\u001B[0m \u001B[1m0s\u001B[0m 3s/step - accuracy: 0.5396 - loss: 4.5267\n",
      "Epoch 8: val_loss improved from 4.65336 to 3.48112, saving model to checkpoints/malhari_cnn_best_model.keras\n",
      "\u001B[1m83/83\u001B[0m \u001B[32m━━━━━━━━━━━━━━━━━━━━\u001B[0m\u001B[37m\u001B[0m \u001B[1m229s\u001B[0m 3s/step - accuracy: 0.5398 - loss: 4.5216 - val_accuracy: 0.5421 - val_loss: 3.4811 - learning_rate: 0.0010\n",
      "Epoch 9/50\n",
      "\u001B[1m83/83\u001B[0m \u001B[32m━━━━━━━━━━━━━━━━━━━━\u001B[0m\u001B[37m\u001B[0m \u001B[1m0s\u001B[0m 4s/step - accuracy: 0.6054 - loss: 3.5130\n",
      "Epoch 9: val_loss improved from 3.48112 to 3.44364, saving model to checkpoints/malhari_cnn_best_model.keras\n",
      "\u001B[1m83/83\u001B[0m \u001B[32m━━━━━━━━━━━━━━━━━━━━\u001B[0m\u001B[37m\u001B[0m \u001B[1m347s\u001B[0m 4s/step - accuracy: 0.6054 - loss: 3.5132 - val_accuracy: 0.5152 - val_loss: 3.4436 - learning_rate: 0.0010\n",
      "Epoch 10/50\n",
      "\u001B[1m83/83\u001B[0m \u001B[32m━━━━━━━━━━━━━━━━━━━━\u001B[0m\u001B[37m\u001B[0m \u001B[1m0s\u001B[0m 5s/step - accuracy: 0.6107 - loss: 3.2761\n",
      "Epoch 10: val_loss improved from 3.44364 to 3.28251, saving model to checkpoints/malhari_cnn_best_model.keras\n",
      "\u001B[1m83/83\u001B[0m \u001B[32m━━━━━━━━━━━━━━━━━━━━\u001B[0m\u001B[37m\u001B[0m \u001B[1m436s\u001B[0m 5s/step - accuracy: 0.6109 - loss: 3.2751 - val_accuracy: 0.5724 - val_loss: 3.2825 - learning_rate: 0.0010\n",
      "Epoch 11/50\n",
      "\u001B[1m83/83\u001B[0m \u001B[32m━━━━━━━━━━━━━━━━━━━━\u001B[0m\u001B[37m\u001B[0m \u001B[1m0s\u001B[0m 3s/step - accuracy: 0.5988 - loss: 2.9571\n",
      "Epoch 11: val_loss improved from 3.28251 to 2.83914, saving model to checkpoints/malhari_cnn_best_model.keras\n",
      "\u001B[1m83/83\u001B[0m \u001B[32m━━━━━━━━━━━━━━━━━━━━\u001B[0m\u001B[37m\u001B[0m \u001B[1m281s\u001B[0m 3s/step - accuracy: 0.5990 - loss: 2.9576 - val_accuracy: 0.6465 - val_loss: 2.8391 - learning_rate: 0.0010\n",
      "Epoch 12/50\n",
      "\u001B[1m83/83\u001B[0m \u001B[32m━━━━━━━━━━━━━━━━━━━━\u001B[0m\u001B[37m\u001B[0m \u001B[1m0s\u001B[0m 3s/step - accuracy: 0.6572 - loss: 2.7913\n",
      "Epoch 12: val_loss did not improve from 2.83914\n",
      "\u001B[1m83/83\u001B[0m \u001B[32m━━━━━━━━━━━━━━━━━━━━\u001B[0m\u001B[37m\u001B[0m \u001B[1m258s\u001B[0m 3s/step - accuracy: 0.6570 - loss: 2.7916 - val_accuracy: 0.6599 - val_loss: 3.1318 - learning_rate: 0.0010\n",
      "Epoch 13/50\n",
      "\u001B[1m83/83\u001B[0m \u001B[32m━━━━━━━━━━━━━━━━━━━━\u001B[0m\u001B[37m\u001B[0m \u001B[1m0s\u001B[0m 3s/step - accuracy: 0.6451 - loss: 2.8642\n",
      "Epoch 13: val_loss did not improve from 2.83914\n",
      "\u001B[1m83/83\u001B[0m \u001B[32m━━━━━━━━━━━━━━━━━━━━\u001B[0m\u001B[37m\u001B[0m \u001B[1m250s\u001B[0m 3s/step - accuracy: 0.6452 - loss: 2.8647 - val_accuracy: 0.4882 - val_loss: 4.4021 - learning_rate: 0.0010\n",
      "Epoch 14/50\n",
      "\u001B[1m83/83\u001B[0m \u001B[32m━━━━━━━━━━━━━━━━━━━━\u001B[0m\u001B[37m\u001B[0m \u001B[1m0s\u001B[0m 3s/step - accuracy: 0.6226 - loss: 3.6950\n",
      "Epoch 14: val_loss did not improve from 2.83914\n",
      "\u001B[1m83/83\u001B[0m \u001B[32m━━━━━━━━━━━━━━━━━━━━\u001B[0m\u001B[37m\u001B[0m \u001B[1m268s\u001B[0m 3s/step - accuracy: 0.6228 - loss: 3.6918 - val_accuracy: 0.5084 - val_loss: 3.8952 - learning_rate: 0.0010\n",
      "Epoch 15/50\n",
      "\u001B[1m83/83\u001B[0m \u001B[32m━━━━━━━━━━━━━━━━━━━━\u001B[0m\u001B[37m\u001B[0m \u001B[1m0s\u001B[0m 3s/step - accuracy: 0.6463 - loss: 3.2743\n",
      "Epoch 15: val_loss did not improve from 2.83914\n",
      "\u001B[1m83/83\u001B[0m \u001B[32m━━━━━━━━━━━━━━━━━━━━\u001B[0m\u001B[37m\u001B[0m \u001B[1m265s\u001B[0m 3s/step - accuracy: 0.6464 - loss: 3.2738 - val_accuracy: 0.6128 - val_loss: 2.8466 - learning_rate: 0.0010\n",
      "Epoch 16/50\n",
      "\u001B[1m83/83\u001B[0m \u001B[32m━━━━━━━━━━━━━━━━━━━━\u001B[0m\u001B[37m\u001B[0m \u001B[1m0s\u001B[0m 4s/step - accuracy: 0.6696 - loss: 2.9593\n",
      "Epoch 16: val_loss improved from 2.83914 to 2.69122, saving model to checkpoints/malhari_cnn_best_model.keras\n",
      "\u001B[1m83/83\u001B[0m \u001B[32m━━━━━━━━━━━━━━━━━━━━\u001B[0m\u001B[37m\u001B[0m \u001B[1m301s\u001B[0m 4s/step - accuracy: 0.6696 - loss: 2.9586 - val_accuracy: 0.7104 - val_loss: 2.6912 - learning_rate: 0.0010\n",
      "Epoch 17/50\n",
      "\u001B[1m83/83\u001B[0m \u001B[32m━━━━━━━━━━━━━━━━━━━━\u001B[0m\u001B[37m\u001B[0m \u001B[1m0s\u001B[0m 3s/step - accuracy: 0.6722 - loss: 2.9131\n",
      "Epoch 17: val_loss did not improve from 2.69122\n",
      "\u001B[1m83/83\u001B[0m \u001B[32m━━━━━━━━━━━━━━━━━━━━\u001B[0m\u001B[37m\u001B[0m \u001B[1m279s\u001B[0m 3s/step - accuracy: 0.6717 - loss: 2.9209 - val_accuracy: 0.3367 - val_loss: 4.4507 - learning_rate: 0.0010\n",
      "Epoch 18/50\n",
      "\u001B[1m83/83\u001B[0m \u001B[32m━━━━━━━━━━━━━━━━━━━━\u001B[0m\u001B[37m\u001B[0m \u001B[1m0s\u001B[0m 3s/step - accuracy: 0.6315 - loss: 3.1769\n",
      "Epoch 18: val_loss did not improve from 2.69122\n",
      "\u001B[1m83/83\u001B[0m \u001B[32m━━━━━━━━━━━━━━━━━━━━\u001B[0m\u001B[37m\u001B[0m \u001B[1m269s\u001B[0m 3s/step - accuracy: 0.6317 - loss: 3.1763 - val_accuracy: 0.5724 - val_loss: 2.8759 - learning_rate: 0.0010\n",
      "Epoch 19/50\n",
      "\u001B[1m83/83\u001B[0m \u001B[32m━━━━━━━━━━━━━━━━━━━━\u001B[0m\u001B[37m\u001B[0m \u001B[1m0s\u001B[0m 3s/step - accuracy: 0.6852 - loss: 3.0450\n",
      "Epoch 19: val_loss did not improve from 2.69122\n",
      "\u001B[1m83/83\u001B[0m \u001B[32m━━━━━━━━━━━━━━━━━━━━\u001B[0m\u001B[37m\u001B[0m \u001B[1m283s\u001B[0m 3s/step - accuracy: 0.6851 - loss: 3.0474 - val_accuracy: 0.6162 - val_loss: 3.0433 - learning_rate: 0.0010\n",
      "Epoch 20/50\n",
      "\u001B[1m83/83\u001B[0m \u001B[32m━━━━━━━━━━━━━━━━━━━━\u001B[0m\u001B[37m\u001B[0m \u001B[1m0s\u001B[0m 3s/step - accuracy: 0.7044 - loss: 2.7868\n",
      "Epoch 20: val_loss did not improve from 2.69122\n",
      "\u001B[1m83/83\u001B[0m \u001B[32m━━━━━━━━━━━━━━━━━━━━\u001B[0m\u001B[37m\u001B[0m \u001B[1m235s\u001B[0m 3s/step - accuracy: 0.7043 - loss: 2.7882 - val_accuracy: 0.6835 - val_loss: 3.2207 - learning_rate: 0.0010\n",
      "Epoch 21/50\n",
      "\u001B[1m83/83\u001B[0m \u001B[32m━━━━━━━━━━━━━━━━━━━━\u001B[0m\u001B[37m\u001B[0m \u001B[1m0s\u001B[0m 3s/step - accuracy: 0.6988 - loss: 3.7156\n",
      "Epoch 21: val_loss did not improve from 2.69122\n",
      "\n",
      "Epoch 21: ReduceLROnPlateau reducing learning rate to 0.00020000000949949026.\n",
      "\u001B[1m83/83\u001B[0m \u001B[32m━━━━━━━━━━━━━━━━━━━━\u001B[0m\u001B[37m\u001B[0m \u001B[1m234s\u001B[0m 3s/step - accuracy: 0.6988 - loss: 3.7141 - val_accuracy: 0.4310 - val_loss: 4.0474 - learning_rate: 0.0010\n",
      "Epoch 22/50\n",
      "\u001B[1m83/83\u001B[0m \u001B[32m━━━━━━━━━━━━━━━━━━━━\u001B[0m\u001B[37m\u001B[0m \u001B[1m0s\u001B[0m 3s/step - accuracy: 0.7296 - loss: 3.0052\n",
      "Epoch 22: val_loss improved from 2.69122 to 2.15659, saving model to checkpoints/malhari_cnn_best_model.keras\n",
      "\u001B[1m83/83\u001B[0m \u001B[32m━━━━━━━━━━━━━━━━━━━━\u001B[0m\u001B[37m\u001B[0m \u001B[1m249s\u001B[0m 3s/step - accuracy: 0.7300 - loss: 2.9990 - val_accuracy: 0.6667 - val_loss: 2.1566 - learning_rate: 2.0000e-04\n",
      "Epoch 23/50\n",
      "\u001B[1m83/83\u001B[0m \u001B[32m━━━━━━━━━━━━━━━━━━━━\u001B[0m\u001B[37m\u001B[0m \u001B[1m0s\u001B[0m 3s/step - accuracy: 0.7901 - loss: 1.9001\n",
      "Epoch 23: val_loss improved from 2.15659 to 2.06296, saving model to checkpoints/malhari_cnn_best_model.keras\n",
      "\u001B[1m83/83\u001B[0m \u001B[32m━━━━━━━━━━━━━━━━━━━━\u001B[0m\u001B[37m\u001B[0m \u001B[1m250s\u001B[0m 3s/step - accuracy: 0.7901 - loss: 1.9009 - val_accuracy: 0.7441 - val_loss: 2.0630 - learning_rate: 2.0000e-04\n",
      "Epoch 24/50\n",
      "\u001B[1m83/83\u001B[0m \u001B[32m━━━━━━━━━━━━━━━━━━━━\u001B[0m\u001B[37m\u001B[0m \u001B[1m0s\u001B[0m 3s/step - accuracy: 0.8130 - loss: 1.8969\n",
      "Epoch 24: val_loss improved from 2.06296 to 1.98651, saving model to checkpoints/malhari_cnn_best_model.keras\n",
      "\u001B[1m83/83\u001B[0m \u001B[32m━━━━━━━━━━━━━━━━━━━━\u001B[0m\u001B[37m\u001B[0m \u001B[1m254s\u001B[0m 3s/step - accuracy: 0.8129 - loss: 1.8964 - val_accuracy: 0.7845 - val_loss: 1.9865 - learning_rate: 2.0000e-04\n",
      "Epoch 25/50\n",
      "\u001B[1m83/83\u001B[0m \u001B[32m━━━━━━━━━━━━━━━━━━━━\u001B[0m\u001B[37m\u001B[0m \u001B[1m0s\u001B[0m 3s/step - accuracy: 0.8308 - loss: 1.8903\n",
      "Epoch 25: val_loss did not improve from 1.98651\n",
      "\u001B[1m83/83\u001B[0m \u001B[32m━━━━━━━━━━━━━━━━━━━━\u001B[0m\u001B[37m\u001B[0m \u001B[1m262s\u001B[0m 3s/step - accuracy: 0.8306 - loss: 1.8904 - val_accuracy: 0.6902 - val_loss: 2.2384 - learning_rate: 2.0000e-04\n",
      "Epoch 26/50\n",
      "\u001B[1m83/83\u001B[0m \u001B[32m━━━━━━━━━━━━━━━━━━━━\u001B[0m\u001B[37m\u001B[0m \u001B[1m0s\u001B[0m 3s/step - accuracy: 0.8356 - loss: 1.9816\n",
      "Epoch 26: val_loss did not improve from 1.98651\n",
      "\u001B[1m83/83\u001B[0m \u001B[32m━━━━━━━━━━━━━━━━━━━━\u001B[0m\u001B[37m\u001B[0m \u001B[1m261s\u001B[0m 3s/step - accuracy: 0.8355 - loss: 1.9817 - val_accuracy: 0.7980 - val_loss: 2.3415 - learning_rate: 2.0000e-04\n",
      "Epoch 27/50\n",
      "\u001B[1m83/83\u001B[0m \u001B[32m━━━━━━━━━━━━━━━━━━━━\u001B[0m\u001B[37m\u001B[0m \u001B[1m0s\u001B[0m 3s/step - accuracy: 0.8170 - loss: 2.4700\n",
      "Epoch 27: val_loss did not improve from 1.98651\n",
      "\u001B[1m83/83\u001B[0m \u001B[32m━━━━━━━━━━━━━━━━━━━━\u001B[0m\u001B[37m\u001B[0m \u001B[1m211s\u001B[0m 3s/step - accuracy: 0.8172 - loss: 2.4687 - val_accuracy: 0.8283 - val_loss: 2.1514 - learning_rate: 2.0000e-04\n",
      "Epoch 28/50\n",
      "\u001B[1m83/83\u001B[0m \u001B[32m━━━━━━━━━━━━━━━━━━━━\u001B[0m\u001B[37m\u001B[0m \u001B[1m0s\u001B[0m 3s/step - accuracy: 0.8396 - loss: 2.0027\n",
      "Epoch 28: val_loss did not improve from 1.98651\n",
      "\u001B[1m83/83\u001B[0m \u001B[32m━━━━━━━━━━━━━━━━━━━━\u001B[0m\u001B[37m\u001B[0m \u001B[1m227s\u001B[0m 3s/step - accuracy: 0.8396 - loss: 2.0022 - val_accuracy: 0.7508 - val_loss: 2.1659 - learning_rate: 2.0000e-04\n",
      "Epoch 29/50\n",
      "\u001B[1m83/83\u001B[0m \u001B[32m━━━━━━━━━━━━━━━━━━━━\u001B[0m\u001B[37m\u001B[0m \u001B[1m0s\u001B[0m 2s/step - accuracy: 0.8342 - loss: 2.0807\n",
      "Epoch 29: val_loss did not improve from 1.98651\n",
      "\n",
      "Epoch 29: ReduceLROnPlateau reducing learning rate to 4.0000001899898055e-05.\n",
      "\u001B[1m83/83\u001B[0m \u001B[32m━━━━━━━━━━━━━━━━━━━━\u001B[0m\u001B[37m\u001B[0m \u001B[1m201s\u001B[0m 2s/step - accuracy: 0.8343 - loss: 2.0802 - val_accuracy: 0.7542 - val_loss: 2.1939 - learning_rate: 2.0000e-04\n",
      "Epoch 30/50\n",
      "\u001B[1m83/83\u001B[0m \u001B[32m━━━━━━━━━━━━━━━━━━━━\u001B[0m\u001B[37m\u001B[0m \u001B[1m0s\u001B[0m 2s/step - accuracy: 0.8779 - loss: 1.8145\n",
      "Epoch 30: val_loss improved from 1.98651 to 1.64688, saving model to checkpoints/malhari_cnn_best_model.keras\n",
      "\u001B[1m83/83\u001B[0m \u001B[32m━━━━━━━━━━━━━━━━━━━━\u001B[0m\u001B[37m\u001B[0m \u001B[1m196s\u001B[0m 2s/step - accuracy: 0.8781 - loss: 1.8133 - val_accuracy: 0.8519 - val_loss: 1.6469 - learning_rate: 4.0000e-05\n",
      "Epoch 31/50\n",
      "\u001B[1m83/83\u001B[0m \u001B[32m━━━━━━━━━━━━━━━━━━━━\u001B[0m\u001B[37m\u001B[0m \u001B[1m0s\u001B[0m 2s/step - accuracy: 0.9175 - loss: 1.4847\n",
      "Epoch 31: val_loss improved from 1.64688 to 1.41374, saving model to checkpoints/malhari_cnn_best_model.keras\n",
      "\u001B[1m83/83\u001B[0m \u001B[32m━━━━━━━━━━━━━━━━━━━━\u001B[0m\u001B[37m\u001B[0m \u001B[1m190s\u001B[0m 2s/step - accuracy: 0.9175 - loss: 1.4841 - val_accuracy: 0.8687 - val_loss: 1.4137 - learning_rate: 4.0000e-05\n",
      "Epoch 32/50\n",
      "\u001B[1m83/83\u001B[0m \u001B[32m━━━━━━━━━━━━━━━━━━━━\u001B[0m\u001B[37m\u001B[0m \u001B[1m0s\u001B[0m 2s/step - accuracy: 0.9176 - loss: 1.3078\n",
      "Epoch 32: val_loss improved from 1.41374 to 1.34208, saving model to checkpoints/malhari_cnn_best_model.keras\n",
      "\u001B[1m83/83\u001B[0m \u001B[32m━━━━━━━━━━━━━━━━━━━━\u001B[0m\u001B[37m\u001B[0m \u001B[1m199s\u001B[0m 2s/step - accuracy: 0.9177 - loss: 1.3073 - val_accuracy: 0.8249 - val_loss: 1.3421 - learning_rate: 4.0000e-05\n",
      "Epoch 33/50\n",
      "\u001B[1m83/83\u001B[0m \u001B[32m━━━━━━━━━━━━━━━━━━━━\u001B[0m\u001B[37m\u001B[0m \u001B[1m0s\u001B[0m 3s/step - accuracy: 0.9437 - loss: 1.1338\n",
      "Epoch 33: val_loss improved from 1.34208 to 1.17045, saving model to checkpoints/malhari_cnn_best_model.keras\n",
      "\u001B[1m83/83\u001B[0m \u001B[32m━━━━━━━━━━━━━━━━━━━━\u001B[0m\u001B[37m\u001B[0m \u001B[1m289s\u001B[0m 4s/step - accuracy: 0.9437 - loss: 1.1336 - val_accuracy: 0.8788 - val_loss: 1.1705 - learning_rate: 4.0000e-05\n",
      "Epoch 34/50\n",
      "\u001B[1m83/83\u001B[0m \u001B[32m━━━━━━━━━━━━━━━━━━━━\u001B[0m\u001B[37m\u001B[0m \u001B[1m0s\u001B[0m 6s/step - accuracy: 0.9362 - loss: 1.0723\n",
      "Epoch 34: val_loss improved from 1.17045 to 1.13392, saving model to checkpoints/malhari_cnn_best_model.keras\n",
      "\u001B[1m83/83\u001B[0m \u001B[32m━━━━━━━━━━━━━━━━━━━━\u001B[0m\u001B[37m\u001B[0m \u001B[1m534s\u001B[0m 6s/step - accuracy: 0.9363 - loss: 1.0720 - val_accuracy: 0.8788 - val_loss: 1.1339 - learning_rate: 4.0000e-05\n",
      "Epoch 35/50\n",
      "\u001B[1m83/83\u001B[0m \u001B[32m━━━━━━━━━━━━━━━━━━━━\u001B[0m\u001B[37m\u001B[0m \u001B[1m0s\u001B[0m 3s/step - accuracy: 0.9392 - loss: 1.0042\n",
      "Epoch 35: val_loss did not improve from 1.13392\n",
      "\u001B[1m83/83\u001B[0m \u001B[32m━━━━━━━━━━━━━━━━━━━━\u001B[0m\u001B[37m\u001B[0m \u001B[1m253s\u001B[0m 3s/step - accuracy: 0.9393 - loss: 1.0040 - val_accuracy: 0.8384 - val_loss: 1.1911 - learning_rate: 4.0000e-05\n",
      "Epoch 36/50\n",
      "\u001B[1m83/83\u001B[0m \u001B[32m━━━━━━━━━━━━━━━━━━━━\u001B[0m\u001B[37m\u001B[0m \u001B[1m0s\u001B[0m 3s/step - accuracy: 0.9534 - loss: 0.9224\n",
      "Epoch 36: val_loss did not improve from 1.13392\n",
      "\u001B[1m83/83\u001B[0m \u001B[32m━━━━━━━━━━━━━━━━━━━━\u001B[0m\u001B[37m\u001B[0m \u001B[1m248s\u001B[0m 3s/step - accuracy: 0.9533 - loss: 0.9223 - val_accuracy: 0.8552 - val_loss: 1.1361 - learning_rate: 4.0000e-05\n",
      "Epoch 37/50\n",
      "\u001B[1m83/83\u001B[0m \u001B[32m━━━━━━━━━━━━━━━━━━━━\u001B[0m\u001B[37m\u001B[0m \u001B[1m0s\u001B[0m 3s/step - accuracy: 0.9477 - loss: 0.9105\n",
      "Epoch 37: val_loss improved from 1.13392 to 1.07986, saving model to checkpoints/malhari_cnn_best_model.keras\n",
      "\u001B[1m83/83\u001B[0m \u001B[32m━━━━━━━━━━━━━━━━━━━━\u001B[0m\u001B[37m\u001B[0m \u001B[1m233s\u001B[0m 3s/step - accuracy: 0.9477 - loss: 0.9103 - val_accuracy: 0.8721 - val_loss: 1.0799 - learning_rate: 4.0000e-05\n",
      "Epoch 38/50\n",
      "\u001B[1m83/83\u001B[0m \u001B[32m━━━━━━━━━━━━━━━━━━━━\u001B[0m\u001B[37m\u001B[0m \u001B[1m0s\u001B[0m 3s/step - accuracy: 0.9539 - loss: 0.8781\n",
      "Epoch 38: val_loss improved from 1.07986 to 1.07600, saving model to checkpoints/malhari_cnn_best_model.keras\n",
      "\u001B[1m83/83\u001B[0m \u001B[32m━━━━━━━━━━━━━━━━━━━━\u001B[0m\u001B[37m\u001B[0m \u001B[1m236s\u001B[0m 3s/step - accuracy: 0.9539 - loss: 0.8781 - val_accuracy: 0.8519 - val_loss: 1.0760 - learning_rate: 4.0000e-05\n",
      "Epoch 39/50\n",
      "\u001B[1m83/83\u001B[0m \u001B[32m━━━━━━━━━━━━━━━━━━━━\u001B[0m\u001B[37m\u001B[0m \u001B[1m0s\u001B[0m 3s/step - accuracy: 0.9598 - loss: 0.8456\n",
      "Epoch 39: val_loss improved from 1.07600 to 1.06133, saving model to checkpoints/malhari_cnn_best_model.keras\n",
      "\u001B[1m83/83\u001B[0m \u001B[32m━━━━━━━━━━━━━━━━━━━━\u001B[0m\u001B[37m\u001B[0m \u001B[1m239s\u001B[0m 3s/step - accuracy: 0.9597 - loss: 0.8456 - val_accuracy: 0.8283 - val_loss: 1.0613 - learning_rate: 4.0000e-05\n",
      "Epoch 40/50\n",
      "\u001B[1m83/83\u001B[0m \u001B[32m━━━━━━━━━━━━━━━━━━━━\u001B[0m\u001B[37m\u001B[0m \u001B[1m0s\u001B[0m 3s/step - accuracy: 0.9563 - loss: 0.8357\n",
      "Epoch 40: val_loss did not improve from 1.06133\n",
      "\u001B[1m83/83\u001B[0m \u001B[32m━━━━━━━━━━━━━━━━━━━━\u001B[0m\u001B[37m\u001B[0m \u001B[1m223s\u001B[0m 3s/step - accuracy: 0.9563 - loss: 0.8358 - val_accuracy: 0.8653 - val_loss: 1.1177 - learning_rate: 4.0000e-05\n",
      "Epoch 41/50\n",
      "\u001B[1m83/83\u001B[0m \u001B[32m━━━━━━━━━━━━━━━━━━━━\u001B[0m\u001B[37m\u001B[0m \u001B[1m0s\u001B[0m 3s/step - accuracy: 0.9511 - loss: 0.8516\n",
      "Epoch 41: val_loss did not improve from 1.06133\n",
      "\u001B[1m83/83\u001B[0m \u001B[32m━━━━━━━━━━━━━━━━━━━━\u001B[0m\u001B[37m\u001B[0m \u001B[1m242s\u001B[0m 3s/step - accuracy: 0.9511 - loss: 0.8515 - val_accuracy: 0.8485 - val_loss: 1.0888 - learning_rate: 4.0000e-05\n",
      "Epoch 42/50\n",
      "\u001B[1m83/83\u001B[0m \u001B[32m━━━━━━━━━━━━━━━━━━━━\u001B[0m\u001B[37m\u001B[0m \u001B[1m0s\u001B[0m 3s/step - accuracy: 0.9557 - loss: 0.8219\n",
      "Epoch 42: val_loss improved from 1.06133 to 1.04620, saving model to checkpoints/malhari_cnn_best_model.keras\n",
      "\u001B[1m83/83\u001B[0m \u001B[32m━━━━━━━━━━━━━━━━━━━━\u001B[0m\u001B[37m\u001B[0m \u001B[1m226s\u001B[0m 3s/step - accuracy: 0.9557 - loss: 0.8220 - val_accuracy: 0.8653 - val_loss: 1.0462 - learning_rate: 4.0000e-05\n",
      "Epoch 43/50\n",
      "\u001B[1m83/83\u001B[0m \u001B[32m━━━━━━━━━━━━━━━━━━━━\u001B[0m\u001B[37m\u001B[0m \u001B[1m0s\u001B[0m 2s/step - accuracy: 0.9614 - loss: 0.7960\n",
      "Epoch 43: val_loss improved from 1.04620 to 0.98787, saving model to checkpoints/malhari_cnn_best_model.keras\n",
      "\u001B[1m83/83\u001B[0m \u001B[32m━━━━━━━━━━━━━━━━━━━━\u001B[0m\u001B[37m\u001B[0m \u001B[1m204s\u001B[0m 2s/step - accuracy: 0.9614 - loss: 0.7960 - val_accuracy: 0.8822 - val_loss: 0.9879 - learning_rate: 4.0000e-05\n",
      "Epoch 44/50\n",
      "\u001B[1m83/83\u001B[0m \u001B[32m━━━━━━━━━━━━━━━━━━━━\u001B[0m\u001B[37m\u001B[0m \u001B[1m0s\u001B[0m 2s/step - accuracy: 0.9605 - loss: 0.8019\n",
      "Epoch 44: val_loss did not improve from 0.98787\n",
      "\u001B[1m83/83\u001B[0m \u001B[32m━━━━━━━━━━━━━━━━━━━━\u001B[0m\u001B[37m\u001B[0m \u001B[1m194s\u001B[0m 2s/step - accuracy: 0.9605 - loss: 0.8019 - val_accuracy: 0.8451 - val_loss: 1.2322 - learning_rate: 4.0000e-05\n",
      "Epoch 45/50\n",
      "\u001B[1m83/83\u001B[0m \u001B[32m━━━━━━━━━━━━━━━━━━━━\u001B[0m\u001B[37m\u001B[0m \u001B[1m0s\u001B[0m 2s/step - accuracy: 0.9544 - loss: 0.8005\n",
      "Epoch 45: val_loss did not improve from 0.98787\n",
      "\u001B[1m83/83\u001B[0m \u001B[32m━━━━━━━━━━━━━━━━━━━━\u001B[0m\u001B[37m\u001B[0m \u001B[1m195s\u001B[0m 2s/step - accuracy: 0.9545 - loss: 0.8004 - val_accuracy: 0.8552 - val_loss: 1.0019 - learning_rate: 4.0000e-05\n",
      "Epoch 46/50\n",
      "\u001B[1m83/83\u001B[0m \u001B[32m━━━━━━━━━━━━━━━━━━━━\u001B[0m\u001B[37m\u001B[0m \u001B[1m0s\u001B[0m 2s/step - accuracy: 0.9676 - loss: 0.7710\n",
      "Epoch 46: val_loss did not improve from 0.98787\n",
      "\u001B[1m83/83\u001B[0m \u001B[32m━━━━━━━━━━━━━━━━━━━━\u001B[0m\u001B[37m\u001B[0m \u001B[1m211s\u001B[0m 3s/step - accuracy: 0.9676 - loss: 0.7711 - val_accuracy: 0.8653 - val_loss: 1.0044 - learning_rate: 4.0000e-05\n",
      "Epoch 47/50\n",
      "\u001B[1m83/83\u001B[0m \u001B[32m━━━━━━━━━━━━━━━━━━━━\u001B[0m\u001B[37m\u001B[0m \u001B[1m0s\u001B[0m 3s/step - accuracy: 0.9585 - loss: 0.8010\n",
      "Epoch 47: val_loss did not improve from 0.98787\n",
      "\u001B[1m83/83\u001B[0m \u001B[32m━━━━━━━━━━━━━━━━━━━━\u001B[0m\u001B[37m\u001B[0m \u001B[1m235s\u001B[0m 3s/step - accuracy: 0.9585 - loss: 0.8008 - val_accuracy: 0.8451 - val_loss: 1.1486 - learning_rate: 4.0000e-05\n",
      "Epoch 48/50\n",
      "\u001B[1m83/83\u001B[0m \u001B[32m━━━━━━━━━━━━━━━━━━━━\u001B[0m\u001B[37m\u001B[0m \u001B[1m0s\u001B[0m 3s/step - accuracy: 0.9688 - loss: 0.7664\n",
      "Epoch 48: val_loss did not improve from 0.98787\n",
      "\n",
      "Epoch 48: ReduceLROnPlateau reducing learning rate to 8.000000525498762e-06.\n",
      "\u001B[1m83/83\u001B[0m \u001B[32m━━━━━━━━━━━━━━━━━━━━\u001B[0m\u001B[37m\u001B[0m \u001B[1m226s\u001B[0m 3s/step - accuracy: 0.9688 - loss: 0.7665 - val_accuracy: 0.8687 - val_loss: 1.0383 - learning_rate: 4.0000e-05\n",
      "Epoch 49/50\n",
      "\u001B[1m83/83\u001B[0m \u001B[32m━━━━━━━━━━━━━━━━━━━━\u001B[0m\u001B[37m\u001B[0m \u001B[1m0s\u001B[0m 4s/step - accuracy: 0.9688 - loss: 0.7559\n",
      "Epoch 49: val_loss did not improve from 0.98787\n",
      "\u001B[1m83/83\u001B[0m \u001B[32m━━━━━━━━━━━━━━━━━━━━\u001B[0m\u001B[37m\u001B[0m \u001B[1m318s\u001B[0m 4s/step - accuracy: 0.9689 - loss: 0.7558 - val_accuracy: 0.8923 - val_loss: 0.9969 - learning_rate: 8.0000e-06\n",
      "Epoch 50/50\n",
      "\u001B[1m83/83\u001B[0m \u001B[32m━━━━━━━━━━━━━━━━━━━━\u001B[0m\u001B[37m\u001B[0m \u001B[1m0s\u001B[0m 3s/step - accuracy: 0.9749 - loss: 0.7315\n",
      "Epoch 50: val_loss improved from 0.98787 to 0.95230, saving model to checkpoints/malhari_cnn_best_model.keras\n",
      "\u001B[1m83/83\u001B[0m \u001B[32m━━━━━━━━━━━━━━━━━━━━\u001B[0m\u001B[37m\u001B[0m \u001B[1m265s\u001B[0m 3s/step - accuracy: 0.9750 - loss: 0.7314 - val_accuracy: 0.8923 - val_loss: 0.9523 - learning_rate: 8.0000e-06\n",
      "Restoring model weights from the end of the best epoch: 50.\n"
     ]
    }
   ],
   "execution_count": 18
  },
  {
   "metadata": {
    "ExecuteTime": {
     "end_time": "2024-12-11T18:42:44.443295Z",
     "start_time": "2024-12-11T18:42:41.427224Z"
    }
   },
   "cell_type": "code",
   "source": [
    "model.save('models/malhari_cnn.keras')\n",
    "print(history.history)"
   ],
   "id": "ee3130751559e3a5",
   "outputs": [
    {
     "name": "stdout",
     "output_type": "stream",
     "text": [
      "{'accuracy': [0.45931559801101685, 0.4661597013473511, 0.4695817530155182, 0.4878326952457428, 0.5049429535865784, 0.5551331043243408, 0.5680608153343201, 0.5505703687667847, 0.6072243452072144, 0.631939172744751, 0.6133080124855042, 0.6456273794174194, 0.6547528505325317, 0.6418250799179077, 0.6513307690620422, 0.6714828610420227, 0.6235741376876831, 0.6475285291671753, 0.67452472448349, 0.6969581842422485, 0.6939163208007812, 0.7558935284614563, 0.7901140451431274, 0.8095057010650635, 0.8171102404594421, 0.8250950574874878, 0.829657793045044, 0.8406844139099121, 0.8460075855255127, 0.8927756547927856, 0.9144486784934998, 0.9269961714744568, 0.9418250918388367, 0.9429658055305481, 0.9441064596176147, 0.9513307809829712, 0.9520912766456604, 0.9528517127037048, 0.9585551619529724, 0.9562737345695496, 0.9551330804824829, 0.9551330804824829, 0.9577946662902832, 0.9596958160400391, 0.9589353799819946, 0.9615969657897949, 0.9627376198768616, 0.9661597013473511, 0.974524736404419, 0.9779467582702637], 'loss': [19.969831466674805, 10.343703269958496, 8.073858261108398, 6.3661627769470215, 5.596185207366943, 4.943037033081055, 4.3249006271362305, 4.09680700302124, 3.531970977783203, 3.1943717002868652, 3.0031793117523193, 2.8191113471984863, 2.906122922897339, 3.4312708377838135, 3.2311697006225586, 2.900974988937378, 3.568068265914917, 3.126905679702759, 3.2474424839019775, 2.903097629547119, 3.5914506912231445, 2.489682912826538, 1.9687412977218628, 1.855711579322815, 1.9028390645980835, 1.9877943992614746, 2.359548330307007, 1.966506838798523, 2.0369179248809814, 1.7104624509811401, 1.4417933225631714, 1.2615535259246826, 1.117384433746338, 1.0470372438430786, 0.9871129989624023, 0.9195266366004944, 0.8984511494636536, 0.8761532306671143, 0.8425814509391785, 0.8473048210144043, 0.8415064215660095, 0.825135350227356, 0.8024817109107971, 0.8006080389022827, 0.7920609712600708, 0.7785323262214661, 0.7895843982696533, 0.7709022164344788, 0.743290901184082, 0.7192440629005432], 'val_accuracy': [0.32996633648872375, 0.32996633648872375, 0.32996633648872375, 0.32996633648872375, 0.4343434274196625, 0.48148149251937866, 0.5656565427780151, 0.5420875549316406, 0.5151515007019043, 0.5723905563354492, 0.6464646458625793, 0.6599326729774475, 0.48821547627449036, 0.5084174871444702, 0.6127946376800537, 0.7104377150535583, 0.33670035004615784, 0.5723905563354492, 0.6161616444587708, 0.683501660823822, 0.43097642064094543, 0.6666666865348816, 0.744107723236084, 0.7845118045806885, 0.6902356743812561, 0.7979797720909119, 0.8282828330993652, 0.7508417367935181, 0.7542087435722351, 0.8518518805503845, 0.868686854839325, 0.8249158263206482, 0.8787878751754761, 0.8787878751754761, 0.8383838534355164, 0.8552188277244568, 0.872053861618042, 0.8518518805503845, 0.8282828330993652, 0.8653198480606079, 0.8484848737716675, 0.8653198480606079, 0.8821548819541931, 0.8451178669929504, 0.8552188277244568, 0.8653198480606079, 0.8451178669929504, 0.868686854839325, 0.8922559022903442, 0.8922559022903442], 'val_loss': [16.578535079956055, 10.451306343078613, 7.186381816864014, 7.077620506286621, 4.792859077453613, 4.65335750579834, 5.1136980056762695, 3.4811244010925293, 3.443638563156128, 3.28251051902771, 2.8391363620758057, 3.13181734085083, 4.402054309844971, 3.8952062129974365, 2.846574306488037, 2.6912155151367188, 4.450685024261475, 2.8759326934814453, 3.0432565212249756, 3.220679759979248, 4.047380447387695, 2.1565911769866943, 2.06296443939209, 1.986506462097168, 2.238443374633789, 2.34149169921875, 2.151357412338257, 2.1658852100372314, 2.19394588470459, 1.646881341934204, 1.4137407541275024, 1.3420847654342651, 1.1704548597335815, 1.1339207887649536, 1.1910990476608276, 1.1361236572265625, 1.0798614025115967, 1.0759955644607544, 1.0613266229629517, 1.11768639087677, 1.0887517929077148, 1.046197772026062, 0.9878697395324707, 1.232158899307251, 1.0018506050109863, 1.0044152736663818, 1.1486001014709473, 1.0382664203643799, 0.9969387650489807, 0.9523025751113892], 'learning_rate': [0.0010000000474974513, 0.0010000000474974513, 0.0010000000474974513, 0.0010000000474974513, 0.0010000000474974513, 0.0010000000474974513, 0.0010000000474974513, 0.0010000000474974513, 0.0010000000474974513, 0.0010000000474974513, 0.0010000000474974513, 0.0010000000474974513, 0.0010000000474974513, 0.0010000000474974513, 0.0010000000474974513, 0.0010000000474974513, 0.0010000000474974513, 0.0010000000474974513, 0.0010000000474974513, 0.0010000000474974513, 0.0010000000474974513, 0.00020000000949949026, 0.00020000000949949026, 0.00020000000949949026, 0.00020000000949949026, 0.00020000000949949026, 0.00020000000949949026, 0.00020000000949949026, 0.00020000000949949026, 4.0000002627493814e-05, 4.0000002627493814e-05, 4.0000002627493814e-05, 4.0000002627493814e-05, 4.0000002627493814e-05, 4.0000002627493814e-05, 4.0000002627493814e-05, 4.0000002627493814e-05, 4.0000002627493814e-05, 4.0000002627493814e-05, 4.0000002627493814e-05, 4.0000002627493814e-05, 4.0000002627493814e-05, 4.0000002627493814e-05, 4.0000002627493814e-05, 4.0000002627493814e-05, 4.0000002627493814e-05, 4.0000002627493814e-05, 4.0000002627493814e-05, 8.000000889296643e-06, 8.000000889296643e-06]}\n"
     ]
    }
   ],
   "execution_count": 22
  },
  {
   "metadata": {
    "ExecuteTime": {
     "end_time": "2024-12-11T18:42:24.805126Z",
     "start_time": "2024-12-11T18:42:23.880577Z"
    }
   },
   "cell_type": "code",
   "source": "show_model_performance(history.history)",
   "id": "d00b82c6f71f684",
   "outputs": [
    {
     "data": {
      "text/plain": [
       "<Figure size 1200x500 with 2 Axes>"
      ],
      "image/png": "[encoded data removed]"
     },
     "metadata": {},
     "output_type": "display_data"
    }
   ],
   "execution_count": 21
  }
 ],
 "metadata": {
  "kernelspec": {
   "display_name": "Python 3",
   "language": "python",
   "name": "python3"
  },
  "language_info": {
   "codemirror_mode": {
    "name": "ipython",
    "version": 2
   },
   "file_extension": ".py",
   "mimetype": "text/x-python",
   "name": "python",
   "nbconvert_exporter": "python",
   "pygments_lexer": "ipython2",
   "version": "2.7.6"
  }
 },
 "nbformat": 4,
 "nbformat_minor": 5
}
