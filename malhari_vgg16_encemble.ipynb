{
 "cells": [
  {
   "metadata": {
    "ExecuteTime": {
     "end_time": "2024-12-12T13:19:17.460514Z",
     "start_time": "2024-12-12T13:19:11.093246Z"
    }
   },
   "cell_type": "code",
   "source": [
    "import tensorflow as tf\n",
    "import numpy as np"
   ],
   "id": "7af8183f2e5d3ba2",
   "outputs": [
    {
     "name": "stderr",
     "output_type": "stream",
     "text": [
      "2024-12-12 15:19:14.398091: I tensorflow/core/platform/cpu_feature_guard.cc:210] This TensorFlow binary is optimized to use available CPU instructions in performance-critical operations.\n",
      "To enable the following instructions: AVX2 FMA, in other operations, rebuild TensorFlow with the appropriate compiler flags.\n"
     ]
    }
   ],
   "execution_count": 1
  },
  {
   "cell_type": "code",
   "id": "initial_id",
   "metadata": {
    "collapsed": true,
    "ExecuteTime": {
     "end_time": "2024-12-12T13:19:22.152178Z",
     "start_time": "2024-12-12T13:19:22.149268Z"
    }
   },
   "source": [
    "BATCH_SIZE = 32\n",
    "IMAGE_SIZE = (224, 224)\n",
    "NUM_MODELS = 5\n",
    "EPOCHS = 10\n",
    "DATA_SOURCE_TRAIN = 'data/malhari/train'\n",
    "DATA_SOURCE_TEST = 'data/malhari/test'"
   ],
   "outputs": [],
   "execution_count": 2
  },
  {
   "metadata": {
    "ExecuteTime": {
     "end_time": "2024-12-12T13:19:24.383574Z",
     "start_time": "2024-12-12T13:19:24.037437Z"
    }
   },
   "cell_type": "code",
   "source": [
    "train_ds = tf.keras.utils.image_dataset_from_directory(\n",
    "    DATA_SOURCE_TRAIN,\n",
    "    seed=123,\n",
    "    image_size=IMAGE_SIZE,\n",
    "    batch_size=BATCH_SIZE,\n",
    "    shuffle=True,\n",
    ")\n",
    "\n",
    "val_ds = tf.keras.utils.image_dataset_from_directory(\n",
    "    DATA_SOURCE_TEST,\n",
    "    seed=123,\n",
    "    image_size=IMAGE_SIZE,\n",
    "    batch_size=BATCH_SIZE,\n",
    "    shuffle=False,\n",
    ")\n",
    "\n",
    "class_names = train_ds.class_names"
   ],
   "id": "93100eac342ce26b",
   "outputs": [
    {
     "name": "stdout",
     "output_type": "stream",
     "text": [
      "Found 2630 files belonging to 3 classes.\n",
      "Found 297 files belonging to 3 classes.\n"
     ]
    }
   ],
   "execution_count": 3
  },
  {
   "metadata": {
    "ExecuteTime": {
     "end_time": "2024-12-12T13:19:28.251147Z",
     "start_time": "2024-12-12T13:19:28.246002Z"
    }
   },
   "cell_type": "code",
   "source": [
    "AUTOTUNE = tf.data.AUTOTUNE\n",
    "train_ds = train_ds.prefetch(buffer_size=AUTOTUNE)\n",
    "val_ds = val_ds.prefetch(buffer_size=AUTOTUNE)"
   ],
   "id": "a4664406929cb380",
   "outputs": [],
   "execution_count": 4
  },
  {
   "metadata": {
    "ExecuteTime": {
     "end_time": "2024-12-12T13:19:37.546849Z",
     "start_time": "2024-12-12T13:19:31.625139Z"
    }
   },
   "cell_type": "code",
   "source": [
    "# Subsetting images by (image, label) pairs.\n",
    "train_images = []\n",
    "train_labels = []\n",
    "for x, y in train_ds.unbatch():\n",
    "    train_images.append(x)\n",
    "    train_labels.append(y.numpy())\n",
    "\n",
    "train_images = tf.stack(train_images)\n",
    "train_labels = np.array(train_labels)"
   ],
   "id": "b54f62011e5c1e59",
   "outputs": [
    {
     "name": "stderr",
     "output_type": "stream",
     "text": [
      "2024-12-12 15:19:35.263609: W tensorflow/core/framework/local_rendezvous.cc:404] Local rendezvous is aborting with status: OUT_OF_RANGE: End of sequence\n"
     ]
    }
   ],
   "execution_count": 5
  },
  {
   "metadata": {
    "ExecuteTime": {
     "end_time": "2024-12-12T13:19:46.236931Z",
     "start_time": "2024-12-12T13:19:46.231388Z"
    }
   },
   "cell_type": "code",
   "source": [
    "def create_subset_dataset(images, labels, subset_size):\n",
    "    # Sample indices with replacement\n",
    "    indices = np.random.choice(len(labels), size=subset_size, replace=True)\n",
    "    sampled_images = tf.gather(images, indices)\n",
    "    sampled_labels = tf.gather(labels, indices)\n",
    "\n",
    "    # Build a dataset\n",
    "    ds = tf.data.Dataset.from_tensor_slices((sampled_images, sampled_labels))\n",
    "\n",
    "    # Data augmentation (optional)\n",
    "    data_augmentation = tf.keras.Sequential([\n",
    "        tf.keras.layers.RandomFlip(\"horizontal\"),\n",
    "        tf.keras.layers.RandomRotation(0.1),\n",
    "    ])\n",
    "\n",
    "    # Preprocessing function\n",
    "    def preprocess(image, label):\n",
    "        image = tf.image.resize(image, IMAGE_SIZE)\n",
    "        image = tf.keras.applications.vgg16.preprocess_input(image)\n",
    "        image = data_augmentation(image)\n",
    "        return image, label\n",
    "\n",
    "    ds = ds.map(preprocess, num_parallel_calls=AUTOTUNE)\n",
    "    ds = ds.batch(BATCH_SIZE).prefetch(AUTOTUNE)\n",
    "    return ds"
   ],
   "id": "86de18082a97acbd",
   "outputs": [],
   "execution_count": 6
  },
  {
   "metadata": {
    "ExecuteTime": {
     "end_time": "2024-12-12T13:19:50.325660Z",
     "start_time": "2024-12-12T13:19:50.320828Z"
    }
   },
   "cell_type": "code",
   "source": [
    "def create_vgg16_model(num_classes=len(class_names)):\n",
    "    base_model = tf.keras.applications.VGG16(weights='imagenet', include_top=False, input_shape=IMAGE_SIZE + (3,))\n",
    "    base_model.trainable = False  # Freeze the base model layers\n",
    "\n",
    "    # Add custom top layers\n",
    "    x = tf.keras.layers.Flatten()(base_model.output)\n",
    "    x = tf.keras.layers.Dense(256, activation='relu')(x)\n",
    "    x = tf.keras.layers.Dropout(0.5)(x)\n",
    "    outputs = tf.keras.layers.Dense(num_classes, activation='softmax')(x)\n",
    "\n",
    "    model = tf.keras.models.Model(inputs=base_model.input, outputs=outputs)\n",
    "    model.compile(\n",
    "        optimizer=tf.keras.optimizers.Adam(),\n",
    "        loss='sparse_categorical_crossentropy',\n",
    "        metrics=['accuracy']\n",
    "    )\n",
    "    return model"
   ],
   "id": "f174e929695834f1",
   "outputs": [],
   "execution_count": 7
  },
  {
   "metadata": {
    "ExecuteTime": {
     "end_time": "2024-12-12T13:19:54.195438Z",
     "start_time": "2024-12-12T13:19:54.116229Z"
    }
   },
   "cell_type": "code",
   "source": [
    "def test_preprocess(image, label):\n",
    "    image = tf.image.resize(image, IMAGE_SIZE)\n",
    "    image = tf.keras.applications.vgg16.preprocess_input(image)\n",
    "    return image, label\n",
    "\n",
    "test_ds_processed = val_ds.map(test_preprocess, num_parallel_calls=AUTOTUNE).prefetch(AUTOTUNE)\n",
    "subset_size = len(train_labels)"
   ],
   "id": "54b59ec00d1250af",
   "outputs": [],
   "execution_count": 8
  },
  {
   "metadata": {
    "ExecuteTime": {
     "end_time": "2024-12-12T18:43:17.286943Z",
     "start_time": "2024-12-12T13:21:24.652887Z"
    }
   },
   "cell_type": "code",
   "source": [
    "# Train multiple models on different subsets of the training data\n",
    "ensemble_models = []\n",
    "for i in range(NUM_MODELS):\n",
    "    print(f\"Training model {i+1}/{NUM_MODELS}...\")\n",
    "    callbacks = [\n",
    "        tf.keras.callbacks.ModelCheckpoint(\n",
    "            f'checkpoints/malhari_vgg16_encemble_{i}.keras',\n",
    "            monitor='val_loss',\n",
    "            save_best_only=True,\n",
    "            verbose=1\n",
    "        ),\n",
    "        tf.keras.callbacks.EarlyStopping(\n",
    "            monitor='val_loss',\n",
    "            patience=10,\n",
    "            restore_best_weights=True,\n",
    "            verbose=1\n",
    "        ),\n",
    "        tf.keras.callbacks.ReduceLROnPlateau(\n",
    "            monitor='val_loss',\n",
    "            factor=0.2,\n",
    "            patience=5,\n",
    "            min_lr=1e-6,\n",
    "            verbose=1\n",
    "        )\n",
    "    ]\n",
    "    model = create_vgg16_model(num_classes=len(class_names))\n",
    "    subset_ds = create_subset_dataset(train_images, train_labels, subset_size)\n",
    "    history = model.fit(subset_ds, validation_data=test_ds_processed, epochs=EPOCHS, callbacks=callbacks)\n",
    "    ensemble_models.append(model)\n",
    "    print(history)"
   ],
   "id": "3f32c2de3fa1b0de",
   "outputs": [
    {
     "name": "stdout",
     "output_type": "stream",
     "text": [
      "Training model 1/5...\n",
      "Epoch 1/10\n",
      "\u001B[1m83/83\u001B[0m \u001B[32m━━━━━━━━━━━━━━━━━━━━\u001B[0m\u001B[37m\u001B[0m \u001B[1m0s\u001B[0m 4s/step - accuracy: 0.4820 - loss: 22.1672\n",
      "Epoch 1: val_loss improved from inf to 0.76257, saving model to checkpoints/malhari_vgg16_encemble_0.keras\n",
      "\u001B[1m83/83\u001B[0m \u001B[32m━━━━━━━━━━━━━━━━━━━━\u001B[0m\u001B[37m\u001B[0m \u001B[1m382s\u001B[0m 5s/step - accuracy: 0.4826 - loss: 22.0065 - val_accuracy: 0.6364 - val_loss: 0.7626 - learning_rate: 0.0010\n",
      "Epoch 2/10\n",
      "\u001B[1m83/83\u001B[0m \u001B[32m━━━━━━━━━━━━━━━━━━━━\u001B[0m\u001B[37m\u001B[0m \u001B[1m0s\u001B[0m 6s/step - accuracy: 0.6696 - loss: 0.7201\n",
      "Epoch 2: val_loss improved from 0.76257 to 0.51145, saving model to checkpoints/malhari_vgg16_encemble_0.keras\n",
      "\u001B[1m83/83\u001B[0m \u001B[32m━━━━━━━━━━━━━━━━━━━━\u001B[0m\u001B[37m\u001B[0m \u001B[1m580s\u001B[0m 7s/step - accuracy: 0.6698 - loss: 0.7197 - val_accuracy: 0.7778 - val_loss: 0.5115 - learning_rate: 0.0010\n",
      "Epoch 3/10\n",
      "\u001B[1m83/83\u001B[0m \u001B[32m━━━━━━━━━━━━━━━━━━━━\u001B[0m\u001B[37m\u001B[0m \u001B[1m0s\u001B[0m 5s/step - accuracy: 0.7663 - loss: 0.5388\n",
      "Epoch 3: val_loss improved from 0.51145 to 0.42714, saving model to checkpoints/malhari_vgg16_encemble_0.keras\n",
      "\u001B[1m83/83\u001B[0m \u001B[32m━━━━━━━━━━━━━━━━━━━━\u001B[0m\u001B[37m\u001B[0m \u001B[1m451s\u001B[0m 5s/step - accuracy: 0.7663 - loss: 0.5386 - val_accuracy: 0.8316 - val_loss: 0.4271 - learning_rate: 0.0010\n",
      "Epoch 4/10\n",
      "\u001B[1m83/83\u001B[0m \u001B[32m━━━━━━━━━━━━━━━━━━━━\u001B[0m\u001B[37m\u001B[0m \u001B[1m0s\u001B[0m 6s/step - accuracy: 0.7905 - loss: 0.4875\n",
      "Epoch 4: val_loss improved from 0.42714 to 0.40016, saving model to checkpoints/malhari_vgg16_encemble_0.keras\n",
      "\u001B[1m83/83\u001B[0m \u001B[32m━━━━━━━━━━━━━━━━━━━━\u001B[0m\u001B[37m\u001B[0m \u001B[1m527s\u001B[0m 6s/step - accuracy: 0.7905 - loss: 0.4876 - val_accuracy: 0.8889 - val_loss: 0.4002 - learning_rate: 0.0010\n",
      "Epoch 5/10\n",
      "\u001B[1m83/83\u001B[0m \u001B[32m━━━━━━━━━━━━━━━━━━━━\u001B[0m\u001B[37m\u001B[0m \u001B[1m0s\u001B[0m 4s/step - accuracy: 0.8110 - loss: 0.4717\n",
      "Epoch 5: val_loss improved from 0.40016 to 0.31543, saving model to checkpoints/malhari_vgg16_encemble_0.keras\n",
      "\u001B[1m83/83\u001B[0m \u001B[32m━━━━━━━━━━━━━━━━━━━━\u001B[0m\u001B[37m\u001B[0m \u001B[1m409s\u001B[0m 5s/step - accuracy: 0.8111 - loss: 0.4713 - val_accuracy: 0.9024 - val_loss: 0.3154 - learning_rate: 0.0010\n",
      "Epoch 6/10\n",
      "\u001B[1m83/83\u001B[0m \u001B[32m━━━━━━━━━━━━━━━━━━━━\u001B[0m\u001B[37m\u001B[0m \u001B[1m0s\u001B[0m 5s/step - accuracy: 0.8233 - loss: 0.3804\n",
      "Epoch 6: val_loss improved from 0.31543 to 0.29322, saving model to checkpoints/malhari_vgg16_encemble_0.keras\n",
      "\u001B[1m83/83\u001B[0m \u001B[32m━━━━━━━━━━━━━━━━━━━━\u001B[0m\u001B[37m\u001B[0m \u001B[1m436s\u001B[0m 5s/step - accuracy: 0.8233 - loss: 0.3806 - val_accuracy: 0.8990 - val_loss: 0.2932 - learning_rate: 0.0010\n",
      "Epoch 7/10\n",
      "\u001B[1m83/83\u001B[0m \u001B[32m━━━━━━━━━━━━━━━━━━━━\u001B[0m\u001B[37m\u001B[0m \u001B[1m0s\u001B[0m 5s/step - accuracy: 0.8289 - loss: 0.3871\n",
      "Epoch 7: val_loss improved from 0.29322 to 0.18033, saving model to checkpoints/malhari_vgg16_encemble_0.keras\n",
      "\u001B[1m83/83\u001B[0m \u001B[32m━━━━━━━━━━━━━━━━━━━━\u001B[0m\u001B[37m\u001B[0m \u001B[1m431s\u001B[0m 5s/step - accuracy: 0.8290 - loss: 0.3869 - val_accuracy: 0.9495 - val_loss: 0.1803 - learning_rate: 0.0010\n",
      "Epoch 8/10\n",
      "\u001B[1m83/83\u001B[0m \u001B[32m━━━━━━━━━━━━━━━━━━━━\u001B[0m\u001B[37m\u001B[0m \u001B[1m0s\u001B[0m 5s/step - accuracy: 0.8710 - loss: 0.3213\n",
      "Epoch 8: val_loss improved from 0.18033 to 0.17996, saving model to checkpoints/malhari_vgg16_encemble_0.keras\n",
      "\u001B[1m83/83\u001B[0m \u001B[32m━━━━━━━━━━━━━━━━━━━━\u001B[0m\u001B[37m\u001B[0m \u001B[1m443s\u001B[0m 5s/step - accuracy: 0.8709 - loss: 0.3215 - val_accuracy: 0.9394 - val_loss: 0.1800 - learning_rate: 0.0010\n",
      "Epoch 9/10\n",
      "\u001B[1m83/83\u001B[0m \u001B[32m━━━━━━━━━━━━━━━━━━━━\u001B[0m\u001B[37m\u001B[0m \u001B[1m0s\u001B[0m 5s/step - accuracy: 0.8854 - loss: 0.2605\n",
      "Epoch 9: val_loss did not improve from 0.17996\n",
      "\u001B[1m83/83\u001B[0m \u001B[32m━━━━━━━━━━━━━━━━━━━━\u001B[0m\u001B[37m\u001B[0m \u001B[1m466s\u001B[0m 6s/step - accuracy: 0.8852 - loss: 0.2609 - val_accuracy: 0.8822 - val_loss: 0.7284 - learning_rate: 0.0010\n",
      "Epoch 10/10\n",
      "\u001B[1m83/83\u001B[0m \u001B[32m━━━━━━━━━━━━━━━━━━━━\u001B[0m\u001B[37m\u001B[0m \u001B[1m0s\u001B[0m 5s/step - accuracy: 0.8766 - loss: 0.3395\n",
      "Epoch 10: val_loss improved from 0.17996 to 0.12250, saving model to checkpoints/malhari_vgg16_encemble_0.keras\n",
      "\u001B[1m83/83\u001B[0m \u001B[32m━━━━━━━━━━━━━━━━━━━━\u001B[0m\u001B[37m\u001B[0m \u001B[1m457s\u001B[0m 6s/step - accuracy: 0.8766 - loss: 0.3391 - val_accuracy: 0.9697 - val_loss: 0.1225 - learning_rate: 0.0010\n",
      "Restoring model weights from the end of the best epoch: 10.\n",
      "<keras.src.callbacks.history.History object at 0x1430a4750>\n",
      "Training model 2/5...\n",
      "Epoch 1/10\n",
      "\u001B[1m83/83\u001B[0m \u001B[32m━━━━━━━━━━━━━━━━━━━━\u001B[0m\u001B[37m\u001B[0m \u001B[1m0s\u001B[0m 5s/step - accuracy: 0.4388 - loss: 21.1567\n",
      "Epoch 1: val_loss improved from inf to 1.03455, saving model to checkpoints/malhari_vgg16_encemble_1.keras\n",
      "\u001B[1m83/83\u001B[0m \u001B[32m━━━━━━━━━━━━━━━━━━━━\u001B[0m\u001B[37m\u001B[0m \u001B[1m443s\u001B[0m 5s/step - accuracy: 0.4391 - loss: 20.9997 - val_accuracy: 0.4512 - val_loss: 1.0346 - learning_rate: 0.0010\n",
      "Epoch 2/10\n",
      "\u001B[1m83/83\u001B[0m \u001B[32m━━━━━━━━━━━━━━━━━━━━\u001B[0m\u001B[37m\u001B[0m \u001B[1m0s\u001B[0m 5s/step - accuracy: 0.5602 - loss: 0.9393\n",
      "Epoch 2: val_loss improved from 1.03455 to 0.78032, saving model to checkpoints/malhari_vgg16_encemble_1.keras\n",
      "\u001B[1m83/83\u001B[0m \u001B[32m━━━━━━━━━━━━━━━━━━━━\u001B[0m\u001B[37m\u001B[0m \u001B[1m415s\u001B[0m 5s/step - accuracy: 0.5604 - loss: 0.9388 - val_accuracy: 0.7138 - val_loss: 0.7803 - learning_rate: 0.0010\n",
      "Epoch 3/10\n",
      "\u001B[1m83/83\u001B[0m \u001B[32m━━━━━━━━━━━━━━━━━━━━\u001B[0m\u001B[37m\u001B[0m \u001B[1m0s\u001B[0m 5s/step - accuracy: 0.6242 - loss: 0.7862\n",
      "Epoch 3: val_loss improved from 0.78032 to 0.65844, saving model to checkpoints/malhari_vgg16_encemble_1.keras\n",
      "\u001B[1m83/83\u001B[0m \u001B[32m━━━━━━━━━━━━━━━━━━━━\u001B[0m\u001B[37m\u001B[0m \u001B[1m470s\u001B[0m 6s/step - accuracy: 0.6243 - loss: 0.7860 - val_accuracy: 0.7273 - val_loss: 0.6584 - learning_rate: 0.0010\n",
      "Epoch 4/10\n",
      "\u001B[1m83/83\u001B[0m \u001B[32m━━━━━━━━━━━━━━━━━━━━\u001B[0m\u001B[37m\u001B[0m \u001B[1m0s\u001B[0m 5s/step - accuracy: 0.6503 - loss: 0.7433\n",
      "Epoch 4: val_loss improved from 0.65844 to 0.54448, saving model to checkpoints/malhari_vgg16_encemble_1.keras\n",
      "\u001B[1m83/83\u001B[0m \u001B[32m━━━━━━━━━━━━━━━━━━━━\u001B[0m\u001B[37m\u001B[0m \u001B[1m463s\u001B[0m 6s/step - accuracy: 0.6504 - loss: 0.7430 - val_accuracy: 0.8148 - val_loss: 0.5445 - learning_rate: 0.0010\n",
      "Epoch 5/10\n",
      "\u001B[1m83/83\u001B[0m \u001B[32m━━━━━━━━━━━━━━━━━━━━\u001B[0m\u001B[37m\u001B[0m \u001B[1m0s\u001B[0m 5s/step - accuracy: 0.7221 - loss: 0.6629\n",
      "Epoch 5: val_loss improved from 0.54448 to 0.47946, saving model to checkpoints/malhari_vgg16_encemble_1.keras\n",
      "\u001B[1m83/83\u001B[0m \u001B[32m━━━━━━━━━━━━━━━━━━━━\u001B[0m\u001B[37m\u001B[0m \u001B[1m439s\u001B[0m 5s/step - accuracy: 0.7219 - loss: 0.6630 - val_accuracy: 0.8182 - val_loss: 0.4795 - learning_rate: 0.0010\n",
      "Epoch 6/10\n",
      "\u001B[1m83/83\u001B[0m \u001B[32m━━━━━━━━━━━━━━━━━━━━\u001B[0m\u001B[37m\u001B[0m \u001B[1m0s\u001B[0m 5s/step - accuracy: 0.7192 - loss: 0.6762\n",
      "Epoch 6: val_loss improved from 0.47946 to 0.41933, saving model to checkpoints/malhari_vgg16_encemble_1.keras\n",
      "\u001B[1m83/83\u001B[0m \u001B[32m━━━━━━━━━━━━━━━━━━━━\u001B[0m\u001B[37m\u001B[0m \u001B[1m497s\u001B[0m 6s/step - accuracy: 0.7193 - loss: 0.6758 - val_accuracy: 0.8418 - val_loss: 0.4193 - learning_rate: 0.0010\n",
      "Epoch 7/10\n",
      "\u001B[1m83/83\u001B[0m \u001B[32m━━━━━━━━━━━━━━━━━━━━\u001B[0m\u001B[37m\u001B[0m \u001B[1m0s\u001B[0m 5s/step - accuracy: 0.7561 - loss: 0.5213\n",
      "Epoch 7: val_loss did not improve from 0.41933\n",
      "\u001B[1m83/83\u001B[0m \u001B[32m━━━━━━━━━━━━━━━━━━━━\u001B[0m\u001B[37m\u001B[0m \u001B[1m479s\u001B[0m 6s/step - accuracy: 0.7563 - loss: 0.5209 - val_accuracy: 0.8552 - val_loss: 0.4836 - learning_rate: 0.0010\n",
      "Epoch 8/10\n",
      "\u001B[1m83/83\u001B[0m \u001B[32m━━━━━━━━━━━━━━━━━━━━\u001B[0m\u001B[37m\u001B[0m \u001B[1m0s\u001B[0m 4s/step - accuracy: 0.7925 - loss: 0.4779\n",
      "Epoch 8: val_loss improved from 0.41933 to 0.41796, saving model to checkpoints/malhari_vgg16_encemble_1.keras\n",
      "\u001B[1m83/83\u001B[0m \u001B[32m━━━━━━━━━━━━━━━━━━━━\u001B[0m\u001B[37m\u001B[0m \u001B[1m415s\u001B[0m 5s/step - accuracy: 0.7925 - loss: 0.4776 - val_accuracy: 0.8754 - val_loss: 0.4180 - learning_rate: 0.0010\n",
      "Epoch 9/10\n",
      "\u001B[1m83/83\u001B[0m \u001B[32m━━━━━━━━━━━━━━━━━━━━\u001B[0m\u001B[37m\u001B[0m \u001B[1m0s\u001B[0m 5s/step - accuracy: 0.8274 - loss: 0.4431\n",
      "Epoch 9: val_loss improved from 0.41796 to 0.29302, saving model to checkpoints/malhari_vgg16_encemble_1.keras\n",
      "\u001B[1m83/83\u001B[0m \u001B[32m━━━━━━━━━━━━━━━━━━━━\u001B[0m\u001B[37m\u001B[0m \u001B[1m435s\u001B[0m 5s/step - accuracy: 0.8274 - loss: 0.4431 - val_accuracy: 0.9091 - val_loss: 0.2930 - learning_rate: 0.0010\n",
      "Epoch 10/10\n",
      "\u001B[1m83/83\u001B[0m \u001B[32m━━━━━━━━━━━━━━━━━━━━\u001B[0m\u001B[37m\u001B[0m \u001B[1m0s\u001B[0m 5s/step - accuracy: 0.8345 - loss: 0.4432\n",
      "Epoch 10: val_loss did not improve from 0.29302\n",
      "\u001B[1m83/83\u001B[0m \u001B[32m━━━━━━━━━━━━━━━━━━━━\u001B[0m\u001B[37m\u001B[0m \u001B[1m450s\u001B[0m 5s/step - accuracy: 0.8345 - loss: 0.4428 - val_accuracy: 0.8923 - val_loss: 0.3415 - learning_rate: 0.0010\n",
      "Restoring model weights from the end of the best epoch: 9.\n",
      "<keras.src.callbacks.history.History object at 0x1436eb890>\n",
      "Training model 3/5...\n",
      "Epoch 1/10\n",
      "\u001B[1m83/83\u001B[0m \u001B[32m━━━━━━━━━━━━━━━━━━━━\u001B[0m\u001B[37m\u001B[0m \u001B[1m0s\u001B[0m 4s/step - accuracy: 0.5283 - loss: 17.2820\n",
      "Epoch 1: val_loss improved from inf to 0.66596, saving model to checkpoints/malhari_vgg16_encemble_2.keras\n",
      "\u001B[1m83/83\u001B[0m \u001B[32m━━━━━━━━━━━━━━━━━━━━\u001B[0m\u001B[37m\u001B[0m \u001B[1m375s\u001B[0m 4s/step - accuracy: 0.5292 - loss: 17.1722 - val_accuracy: 0.6936 - val_loss: 0.6660 - learning_rate: 0.0010\n",
      "Epoch 2/10\n",
      "\u001B[1m83/83\u001B[0m \u001B[32m━━━━━━━━━━━━━━━━━━━━\u001B[0m\u001B[37m\u001B[0m \u001B[1m0s\u001B[0m 4s/step - accuracy: 0.7591 - loss: 0.6131\n",
      "Epoch 2: val_loss improved from 0.66596 to 0.48372, saving model to checkpoints/malhari_vgg16_encemble_2.keras\n",
      "\u001B[1m83/83\u001B[0m \u001B[32m━━━━━━━━━━━━━━━━━━━━\u001B[0m\u001B[37m\u001B[0m \u001B[1m365s\u001B[0m 4s/step - accuracy: 0.7592 - loss: 0.6129 - val_accuracy: 0.8283 - val_loss: 0.4837 - learning_rate: 0.0010\n",
      "Epoch 3/10\n",
      "\u001B[1m83/83\u001B[0m \u001B[32m━━━━━━━━━━━━━━━━━━━━\u001B[0m\u001B[37m\u001B[0m \u001B[1m0s\u001B[0m 4s/step - accuracy: 0.7964 - loss: 0.5181\n",
      "Epoch 3: val_loss improved from 0.48372 to 0.42939, saving model to checkpoints/malhari_vgg16_encemble_2.keras\n",
      "\u001B[1m83/83\u001B[0m \u001B[32m━━━━━━━━━━━━━━━━━━━━\u001B[0m\u001B[37m\u001B[0m \u001B[1m372s\u001B[0m 4s/step - accuracy: 0.7964 - loss: 0.5178 - val_accuracy: 0.8249 - val_loss: 0.4294 - learning_rate: 0.0010\n",
      "Epoch 4/10\n",
      "\u001B[1m83/83\u001B[0m \u001B[32m━━━━━━━━━━━━━━━━━━━━\u001B[0m\u001B[37m\u001B[0m \u001B[1m0s\u001B[0m 8s/step - accuracy: 0.8503 - loss: 0.3733\n",
      "Epoch 4: val_loss improved from 0.42939 to 0.32893, saving model to checkpoints/malhari_vgg16_encemble_2.keras\n",
      "\u001B[1m83/83\u001B[0m \u001B[32m━━━━━━━━━━━━━━━━━━━━\u001B[0m\u001B[37m\u001B[0m \u001B[1m697s\u001B[0m 8s/step - accuracy: 0.8502 - loss: 0.3734 - val_accuracy: 0.8889 - val_loss: 0.3289 - learning_rate: 0.0010\n",
      "Epoch 5/10\n",
      "\u001B[1m83/83\u001B[0m \u001B[32m━━━━━━━━━━━━━━━━━━━━\u001B[0m\u001B[37m\u001B[0m \u001B[1m0s\u001B[0m 3s/step - accuracy: 0.8604 - loss: 0.3372\n",
      "Epoch 5: val_loss improved from 0.32893 to 0.26117, saving model to checkpoints/malhari_vgg16_encemble_2.keras\n",
      "\u001B[1m83/83\u001B[0m \u001B[32m━━━━━━━━━━━━━━━━━━━━\u001B[0m\u001B[37m\u001B[0m \u001B[1m322s\u001B[0m 4s/step - accuracy: 0.8605 - loss: 0.3371 - val_accuracy: 0.9327 - val_loss: 0.2612 - learning_rate: 0.0010\n",
      "Epoch 6/10\n",
      "\u001B[1m83/83\u001B[0m \u001B[32m━━━━━━━━━━━━━━━━━━━━\u001B[0m\u001B[37m\u001B[0m \u001B[1m0s\u001B[0m 3s/step - accuracy: 0.8680 - loss: 0.3203\n",
      "Epoch 6: val_loss improved from 0.26117 to 0.24088, saving model to checkpoints/malhari_vgg16_encemble_2.keras\n",
      "\u001B[1m83/83\u001B[0m \u001B[32m━━━━━━━━━━━━━━━━━━━━\u001B[0m\u001B[37m\u001B[0m \u001B[1m314s\u001B[0m 4s/step - accuracy: 0.8680 - loss: 0.3203 - val_accuracy: 0.9360 - val_loss: 0.2409 - learning_rate: 0.0010\n",
      "Epoch 7/10\n",
      "\u001B[1m83/83\u001B[0m \u001B[32m━━━━━━━━━━━━━━━━━━━━\u001B[0m\u001B[37m\u001B[0m \u001B[1m0s\u001B[0m 4s/step - accuracy: 0.8793 - loss: 0.3002\n",
      "Epoch 7: val_loss improved from 0.24088 to 0.16788, saving model to checkpoints/malhari_vgg16_encemble_2.keras\n",
      "\u001B[1m83/83\u001B[0m \u001B[32m━━━━━━━━━━━━━━━━━━━━\u001B[0m\u001B[37m\u001B[0m \u001B[1m327s\u001B[0m 4s/step - accuracy: 0.8793 - loss: 0.3002 - val_accuracy: 0.9360 - val_loss: 0.1679 - learning_rate: 0.0010\n",
      "Epoch 8/10\n",
      "\u001B[1m83/83\u001B[0m \u001B[32m━━━━━━━━━━━━━━━━━━━━\u001B[0m\u001B[37m\u001B[0m \u001B[1m0s\u001B[0m 3s/step - accuracy: 0.8943 - loss: 0.2592\n",
      "Epoch 8: val_loss did not improve from 0.16788\n",
      "\u001B[1m83/83\u001B[0m \u001B[32m━━━━━━━━━━━━━━━━━━━━\u001B[0m\u001B[37m\u001B[0m \u001B[1m313s\u001B[0m 4s/step - accuracy: 0.8943 - loss: 0.2593 - val_accuracy: 0.9158 - val_loss: 0.2801 - learning_rate: 0.0010\n",
      "Epoch 9/10\n",
      "\u001B[1m83/83\u001B[0m \u001B[32m━━━━━━━━━━━━━━━━━━━━\u001B[0m\u001B[37m\u001B[0m \u001B[1m0s\u001B[0m 4s/step - accuracy: 0.9038 - loss: 0.3302\n",
      "Epoch 9: val_loss did not improve from 0.16788\n",
      "\u001B[1m83/83\u001B[0m \u001B[32m━━━━━━━━━━━━━━━━━━━━\u001B[0m\u001B[37m\u001B[0m \u001B[1m329s\u001B[0m 4s/step - accuracy: 0.9038 - loss: 0.3296 - val_accuracy: 0.9360 - val_loss: 0.2097 - learning_rate: 0.0010\n",
      "Epoch 10/10\n",
      "\u001B[1m83/83\u001B[0m \u001B[32m━━━━━━━━━━━━━━━━━━━━\u001B[0m\u001B[37m\u001B[0m \u001B[1m0s\u001B[0m 3s/step - accuracy: 0.9082 - loss: 0.2512\n",
      "Epoch 10: val_loss did not improve from 0.16788\n",
      "\u001B[1m83/83\u001B[0m \u001B[32m━━━━━━━━━━━━━━━━━━━━\u001B[0m\u001B[37m\u001B[0m \u001B[1m309s\u001B[0m 4s/step - accuracy: 0.9082 - loss: 0.2511 - val_accuracy: 0.9327 - val_loss: 0.2587 - learning_rate: 0.0010\n",
      "Restoring model weights from the end of the best epoch: 7.\n",
      "<keras.src.callbacks.history.History object at 0x143d63dd0>\n",
      "Training model 4/5...\n",
      "Epoch 1/10\n",
      "\u001B[1m83/83\u001B[0m \u001B[32m━━━━━━━━━━━━━━━━━━━━\u001B[0m\u001B[37m\u001B[0m \u001B[1m0s\u001B[0m 3s/step - accuracy: 0.5228 - loss: 19.4062\n",
      "Epoch 1: val_loss improved from inf to 0.69488, saving model to checkpoints/malhari_vgg16_encemble_3.keras\n",
      "\u001B[1m83/83\u001B[0m \u001B[32m━━━━━━━━━━━━━━━━━━━━\u001B[0m\u001B[37m\u001B[0m \u001B[1m320s\u001B[0m 4s/step - accuracy: 0.5237 - loss: 19.2628 - val_accuracy: 0.7508 - val_loss: 0.6949 - learning_rate: 0.0010\n",
      "Epoch 2/10\n",
      "\u001B[1m83/83\u001B[0m \u001B[32m━━━━━━━━━━━━━━━━━━━━\u001B[0m\u001B[37m\u001B[0m \u001B[1m0s\u001B[0m 3s/step - accuracy: 0.7071 - loss: 0.7166\n",
      "Epoch 2: val_loss improved from 0.69488 to 0.46854, saving model to checkpoints/malhari_vgg16_encemble_3.keras\n",
      "\u001B[1m83/83\u001B[0m \u001B[32m━━━━━━━━━━━━━━━━━━━━\u001B[0m\u001B[37m\u001B[0m \u001B[1m304s\u001B[0m 4s/step - accuracy: 0.7072 - loss: 0.7160 - val_accuracy: 0.8316 - val_loss: 0.4685 - learning_rate: 0.0010\n",
      "Epoch 3/10\n",
      "\u001B[1m83/83\u001B[0m \u001B[32m━━━━━━━━━━━━━━━━━━━━\u001B[0m\u001B[37m\u001B[0m \u001B[1m0s\u001B[0m 3s/step - accuracy: 0.7596 - loss: 0.5452\n",
      "Epoch 3: val_loss improved from 0.46854 to 0.32958, saving model to checkpoints/malhari_vgg16_encemble_3.keras\n",
      "\u001B[1m83/83\u001B[0m \u001B[32m━━━━━━━━━━━━━━━━━━━━\u001B[0m\u001B[37m\u001B[0m \u001B[1m300s\u001B[0m 4s/step - accuracy: 0.7597 - loss: 0.5452 - val_accuracy: 0.8754 - val_loss: 0.3296 - learning_rate: 0.0010\n",
      "Epoch 4/10\n",
      "\u001B[1m83/83\u001B[0m \u001B[32m━━━━━━━━━━━━━━━━━━━━\u001B[0m\u001B[37m\u001B[0m \u001B[1m0s\u001B[0m 3s/step - accuracy: 0.8213 - loss: 0.4101\n",
      "Epoch 4: val_loss improved from 0.32958 to 0.31379, saving model to checkpoints/malhari_vgg16_encemble_3.keras\n",
      "\u001B[1m83/83\u001B[0m \u001B[32m━━━━━━━━━━━━━━━━━━━━\u001B[0m\u001B[37m\u001B[0m \u001B[1m283s\u001B[0m 3s/step - accuracy: 0.8213 - loss: 0.4101 - val_accuracy: 0.8822 - val_loss: 0.3138 - learning_rate: 0.0010\n",
      "Epoch 5/10\n",
      "\u001B[1m83/83\u001B[0m \u001B[32m━━━━━━━━━━━━━━━━━━━━\u001B[0m\u001B[37m\u001B[0m \u001B[1m0s\u001B[0m 3s/step - accuracy: 0.8023 - loss: 0.4587\n",
      "Epoch 5: val_loss improved from 0.31379 to 0.29870, saving model to checkpoints/malhari_vgg16_encemble_3.keras\n",
      "\u001B[1m83/83\u001B[0m \u001B[32m━━━━━━━━━━━━━━━━━━━━\u001B[0m\u001B[37m\u001B[0m \u001B[1m296s\u001B[0m 4s/step - accuracy: 0.8025 - loss: 0.4584 - val_accuracy: 0.8855 - val_loss: 0.2987 - learning_rate: 0.0010\n",
      "Epoch 6/10\n",
      "\u001B[1m83/83\u001B[0m \u001B[32m━━━━━━━━━━━━━━━━━━━━\u001B[0m\u001B[37m\u001B[0m \u001B[1m0s\u001B[0m 3s/step - accuracy: 0.8336 - loss: 0.3944\n",
      "Epoch 6: val_loss improved from 0.29870 to 0.19139, saving model to checkpoints/malhari_vgg16_encemble_3.keras\n",
      "\u001B[1m83/83\u001B[0m \u001B[32m━━━━━━━━━━━━━━━━━━━━\u001B[0m\u001B[37m\u001B[0m \u001B[1m283s\u001B[0m 3s/step - accuracy: 0.8335 - loss: 0.3947 - val_accuracy: 0.9360 - val_loss: 0.1914 - learning_rate: 0.0010\n",
      "Epoch 7/10\n",
      "\u001B[1m83/83\u001B[0m \u001B[32m━━━━━━━━━━━━━━━━━━━━\u001B[0m\u001B[37m\u001B[0m \u001B[1m0s\u001B[0m 3s/step - accuracy: 0.8510 - loss: 0.3331\n",
      "Epoch 7: val_loss did not improve from 0.19139\n",
      "\u001B[1m83/83\u001B[0m \u001B[32m━━━━━━━━━━━━━━━━━━━━\u001B[0m\u001B[37m\u001B[0m \u001B[1m291s\u001B[0m 4s/step - accuracy: 0.8509 - loss: 0.3335 - val_accuracy: 0.9024 - val_loss: 0.2129 - learning_rate: 0.0010\n",
      "Epoch 8/10\n",
      "\u001B[1m83/83\u001B[0m \u001B[32m━━━━━━━━━━━━━━━━━━━━\u001B[0m\u001B[37m\u001B[0m \u001B[1m0s\u001B[0m 3s/step - accuracy: 0.8591 - loss: 0.3491\n",
      "Epoch 8: val_loss improved from 0.19139 to 0.17879, saving model to checkpoints/malhari_vgg16_encemble_3.keras\n",
      "\u001B[1m83/83\u001B[0m \u001B[32m━━━━━━━━━━━━━━━━━━━━\u001B[0m\u001B[37m\u001B[0m \u001B[1m280s\u001B[0m 3s/step - accuracy: 0.8591 - loss: 0.3491 - val_accuracy: 0.9327 - val_loss: 0.1788 - learning_rate: 0.0010\n",
      "Epoch 9/10\n",
      "\u001B[1m83/83\u001B[0m \u001B[32m━━━━━━━━━━━━━━━━━━━━\u001B[0m\u001B[37m\u001B[0m \u001B[1m0s\u001B[0m 3s/step - accuracy: 0.8664 - loss: 0.3096\n",
      "Epoch 9: val_loss did not improve from 0.17879\n",
      "\u001B[1m83/83\u001B[0m \u001B[32m━━━━━━━━━━━━━━━━━━━━\u001B[0m\u001B[37m\u001B[0m \u001B[1m298s\u001B[0m 4s/step - accuracy: 0.8665 - loss: 0.3095 - val_accuracy: 0.9394 - val_loss: 0.1842 - learning_rate: 0.0010\n",
      "Epoch 10/10\n",
      "\u001B[1m83/83\u001B[0m \u001B[32m━━━━━━━━━━━━━━━━━━━━\u001B[0m\u001B[37m\u001B[0m \u001B[1m0s\u001B[0m 3s/step - accuracy: 0.8864 - loss: 0.3452\n",
      "Epoch 10: val_loss did not improve from 0.17879\n",
      "\u001B[1m83/83\u001B[0m \u001B[32m━━━━━━━━━━━━━━━━━━━━\u001B[0m\u001B[37m\u001B[0m \u001B[1m283s\u001B[0m 3s/step - accuracy: 0.8863 - loss: 0.3452 - val_accuracy: 0.8990 - val_loss: 0.2558 - learning_rate: 0.0010\n",
      "Restoring model weights from the end of the best epoch: 8.\n",
      "<keras.src.callbacks.history.History object at 0x14413f4d0>\n",
      "Training model 5/5...\n",
      "Epoch 1/10\n",
      "\u001B[1m83/83\u001B[0m \u001B[32m━━━━━━━━━━━━━━━━━━━━\u001B[0m\u001B[37m\u001B[0m \u001B[1m0s\u001B[0m 3s/step - accuracy: 0.5462 - loss: 20.2792\n",
      "Epoch 1: val_loss improved from inf to 0.63240, saving model to checkpoints/malhari_vgg16_encemble_4.keras\n",
      "\u001B[1m83/83\u001B[0m \u001B[32m━━━━━━━━━━━━━━━━━━━━\u001B[0m\u001B[37m\u001B[0m \u001B[1m298s\u001B[0m 4s/step - accuracy: 0.5470 - loss: 20.1494 - val_accuracy: 0.6902 - val_loss: 0.6324 - learning_rate: 0.0010\n",
      "Epoch 2/10\n",
      "\u001B[1m83/83\u001B[0m \u001B[32m━━━━━━━━━━━━━━━━━━━━\u001B[0m\u001B[37m\u001B[0m \u001B[1m0s\u001B[0m 3s/step - accuracy: 0.7048 - loss: 0.6540\n",
      "Epoch 2: val_loss improved from 0.63240 to 0.47531, saving model to checkpoints/malhari_vgg16_encemble_4.keras\n",
      "\u001B[1m83/83\u001B[0m \u001B[32m━━━━━━━━━━━━━━━━━━━━\u001B[0m\u001B[37m\u001B[0m \u001B[1m283s\u001B[0m 3s/step - accuracy: 0.7050 - loss: 0.6545 - val_accuracy: 0.8215 - val_loss: 0.4753 - learning_rate: 0.0010\n",
      "Epoch 3/10\n",
      "\u001B[1m83/83\u001B[0m \u001B[32m━━━━━━━━━━━━━━━━━━━━\u001B[0m\u001B[37m\u001B[0m \u001B[1m0s\u001B[0m 3s/step - accuracy: 0.8086 - loss: 0.5071\n",
      "Epoch 3: val_loss improved from 0.47531 to 0.43728, saving model to checkpoints/malhari_vgg16_encemble_4.keras\n",
      "\u001B[1m83/83\u001B[0m \u001B[32m━━━━━━━━━━━━━━━━━━━━\u001B[0m\u001B[37m\u001B[0m \u001B[1m294s\u001B[0m 4s/step - accuracy: 0.8086 - loss: 0.5072 - val_accuracy: 0.8653 - val_loss: 0.4373 - learning_rate: 0.0010\n",
      "Epoch 4/10\n",
      "\u001B[1m83/83\u001B[0m \u001B[32m━━━━━━━━━━━━━━━━━━━━\u001B[0m\u001B[37m\u001B[0m \u001B[1m0s\u001B[0m 3s/step - accuracy: 0.8246 - loss: 0.4339\n",
      "Epoch 4: val_loss improved from 0.43728 to 0.39323, saving model to checkpoints/malhari_vgg16_encemble_4.keras\n",
      "\u001B[1m83/83\u001B[0m \u001B[32m━━━━━━━━━━━━━━━━━━━━\u001B[0m\u001B[37m\u001B[0m \u001B[1m289s\u001B[0m 3s/step - accuracy: 0.8246 - loss: 0.4344 - val_accuracy: 0.8788 - val_loss: 0.3932 - learning_rate: 0.0010\n",
      "Epoch 5/10\n",
      "\u001B[1m83/83\u001B[0m \u001B[32m━━━━━━━━━━━━━━━━━━━━\u001B[0m\u001B[37m\u001B[0m \u001B[1m0s\u001B[0m 3s/step - accuracy: 0.8470 - loss: 0.4133\n",
      "Epoch 5: val_loss improved from 0.39323 to 0.26153, saving model to checkpoints/malhari_vgg16_encemble_4.keras\n",
      "\u001B[1m83/83\u001B[0m \u001B[32m━━━━━━━━━━━━━━━━━━━━\u001B[0m\u001B[37m\u001B[0m \u001B[1m308s\u001B[0m 4s/step - accuracy: 0.8471 - loss: 0.4133 - val_accuracy: 0.9192 - val_loss: 0.2615 - learning_rate: 0.0010\n",
      "Epoch 6/10\n",
      "\u001B[1m83/83\u001B[0m \u001B[32m━━━━━━━━━━━━━━━━━━━━\u001B[0m\u001B[37m\u001B[0m \u001B[1m0s\u001B[0m 4s/step - accuracy: 0.8507 - loss: 0.3863\n",
      "Epoch 6: val_loss did not improve from 0.26153\n",
      "\u001B[1m83/83\u001B[0m \u001B[32m━━━━━━━━━━━━━━━━━━━━\u001B[0m\u001B[37m\u001B[0m \u001B[1m392s\u001B[0m 5s/step - accuracy: 0.8507 - loss: 0.3867 - val_accuracy: 0.8956 - val_loss: 0.2650 - learning_rate: 0.0010\n",
      "Epoch 7/10\n",
      "\u001B[1m83/83\u001B[0m \u001B[32m━━━━━━━━━━━━━━━━━━━━\u001B[0m\u001B[37m\u001B[0m \u001B[1m0s\u001B[0m 5s/step - accuracy: 0.8673 - loss: 0.3273\n",
      "Epoch 7: val_loss did not improve from 0.26153\n",
      "\u001B[1m83/83\u001B[0m \u001B[32m━━━━━━━━━━━━━━━━━━━━\u001B[0m\u001B[37m\u001B[0m \u001B[1m426s\u001B[0m 5s/step - accuracy: 0.8673 - loss: 0.3276 - val_accuracy: 0.9226 - val_loss: 0.2643 - learning_rate: 0.0010\n",
      "Epoch 8/10\n",
      "\u001B[1m83/83\u001B[0m \u001B[32m━━━━━━━━━━━━━━━━━━━━\u001B[0m\u001B[37m\u001B[0m \u001B[1m0s\u001B[0m 4s/step - accuracy: 0.8784 - loss: 0.3017\n",
      "Epoch 8: val_loss improved from 0.26153 to 0.17075, saving model to checkpoints/malhari_vgg16_encemble_4.keras\n",
      "\u001B[1m83/83\u001B[0m \u001B[32m━━━━━━━━━━━━━━━━━━━━\u001B[0m\u001B[37m\u001B[0m \u001B[1m407s\u001B[0m 5s/step - accuracy: 0.8783 - loss: 0.3018 - val_accuracy: 0.9461 - val_loss: 0.1708 - learning_rate: 0.0010\n",
      "Epoch 9/10\n",
      "\u001B[1m83/83\u001B[0m \u001B[32m━━━━━━━━━━━━━━━━━━━━\u001B[0m\u001B[37m\u001B[0m \u001B[1m0s\u001B[0m 5s/step - accuracy: 0.8996 - loss: 0.2437\n",
      "Epoch 9: val_loss did not improve from 0.17075\n",
      "\u001B[1m83/83\u001B[0m \u001B[32m━━━━━━━━━━━━━━━━━━━━\u001B[0m\u001B[37m\u001B[0m \u001B[1m440s\u001B[0m 5s/step - accuracy: 0.8995 - loss: 0.2439 - val_accuracy: 0.9461 - val_loss: 0.1881 - learning_rate: 0.0010\n",
      "Epoch 10/10\n",
      "\u001B[1m83/83\u001B[0m \u001B[32m━━━━━━━━━━━━━━━━━━━━\u001B[0m\u001B[37m\u001B[0m \u001B[1m0s\u001B[0m 4s/step - accuracy: 0.9059 - loss: 0.2542\n",
      "Epoch 10: val_loss did not improve from 0.17075\n",
      "\u001B[1m83/83\u001B[0m \u001B[32m━━━━━━━━━━━━━━━━━━━━\u001B[0m\u001B[37m\u001B[0m \u001B[1m410s\u001B[0m 5s/step - accuracy: 0.9058 - loss: 0.2545 - val_accuracy: 0.9596 - val_loss: 0.1815 - learning_rate: 0.0010\n",
      "Restoring model weights from the end of the best epoch: 8.\n",
      "<keras.src.callbacks.history.History object at 0x144643890>\n"
     ]
    }
   ],
   "execution_count": 10
  },
  {
   "metadata": {
    "ExecuteTime": {
     "end_time": "2024-12-12T19:03:20.879088Z",
     "start_time": "2024-12-12T19:03:20.859548Z"
    }
   },
   "cell_type": "code",
   "source": [
    "def ensemble_predict(models, dataset):\n",
    "    all_preds = []\n",
    "    for m in models:\n",
    "        preds = m.predict(dataset, verbose=0)\n",
    "        all_preds.append(preds)\n",
    "    avg_preds = np.mean(np.array(all_preds), axis=0)\n",
    "    return avg_preds"
   ],
   "id": "9ff22d3e0fa3f5d9",
   "outputs": [],
   "execution_count": 11
  },
  {
   "metadata": {
    "ExecuteTime": {
     "end_time": "2024-12-12T19:05:35.349505Z",
     "start_time": "2024-12-12T19:03:22.949389Z"
    }
   },
   "cell_type": "code",
   "source": [
    "# Get ground truth from test set\n",
    "y_true = []\n",
    "test_images_list = []\n",
    "for img, lbl in val_ds.unbatch():\n",
    "    test_images_list.append(img)\n",
    "    y_true.append(lbl.numpy())\n",
    "\n",
    "test_images_list = tf.stack(test_images_list)\n",
    "y_true = np.array(y_true)\n",
    "\n",
    "# Preprocess test images for prediction\n",
    "test_images_prep = tf.keras.applications.vgg16.preprocess_input(\n",
    "    tf.image.resize(test_images_list, IMAGE_SIZE)\n",
    ")\n",
    "\n",
    "test_predict_ds = tf.data.Dataset.from_tensor_slices(test_images_prep).batch(BATCH_SIZE)\n",
    "\n",
    "ensemble_predictions = ensemble_predict(ensemble_models, test_predict_ds)\n",
    "y_pred = np.argmax(ensemble_predictions, axis=1)\n",
    "\n",
    "accuracy = np.mean(y_pred == y_true)\n",
    "print(\"Ensemble test accuracy:\", accuracy)"
   ],
   "id": "b25a23ede5df906",
   "outputs": [
    {
     "name": "stderr",
     "output_type": "stream",
     "text": [
      "2024-12-12 21:03:23.697113: W tensorflow/core/framework/local_rendezvous.cc:404] Local rendezvous is aborting with status: OUT_OF_RANGE: End of sequence\n"
     ]
    },
    {
     "name": "stdout",
     "output_type": "stream",
     "text": [
      "Ensemble test accuracy: 0.9663299663299664\n"
     ]
    }
   ],
   "execution_count": 12
  }
 ],
 "metadata": {
  "kernelspec": {
   "display_name": "Python 3",
   "language": "python",
   "name": "python3"
  },
  "language_info": {
   "codemirror_mode": {
    "name": "ipython",
    "version": 2
   },
   "file_extension": ".py",
   "mimetype": "text/x-python",
   "name": "python",
   "nbconvert_exporter": "python",
   "pygments_lexer": "ipython2",
   "version": "2.7.6"
  }
 },
 "nbformat": 4,
 "nbformat_minor": 5
}
