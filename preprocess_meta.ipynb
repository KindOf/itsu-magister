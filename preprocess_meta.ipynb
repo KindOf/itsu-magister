{
 "cells": [
  {
   "cell_type": "code",
   "metadata": {},
   "source": [
    "import pandas as pd\n",
    "import numpy as np\n",
    "import matplotlib.pyplot as plt\n",
    "import seaborn as sns"
   ],
   "outputs": [],
   "execution_count": null
  },
  {
   "metadata": {},
   "cell_type": "markdown",
   "source": "# 1. Load the metadata"
  },
  {
   "cell_type": "code",
   "metadata": {},
   "source": [
    "metadata = pd.read_excel('./data/metadata.xlsx', skiprows=1)\n",
    "metadata.head()"
   ],
   "outputs": [],
   "execution_count": null
  },
  {
   "metadata": {},
   "cell_type": "markdown",
   "source": "# 2. Load the metadata"
  },
  {
   "metadata": {},
   "cell_type": "code",
   "source": [
    "selected_columns = ['Case Number', 'CaseID', 'Aceto uptake', 'Margins', 'Vessels', 'Lesion size', 'Iodine uptake', 'SwedeFinal']\n",
    "selected_metadata = metadata[selected_columns]\n",
    "selected_metadata.head()"
   ],
   "outputs": [],
   "execution_count": null
  },
  {
   "metadata": {},
   "cell_type": "markdown",
   "source": "# 3. Exploring metadata"
  },
  {
   "metadata": {},
   "cell_type": "code",
   "source": "selected_metadata.isnull().sum()",
   "outputs": [],
   "execution_count": null
  },
  {
   "metadata": {},
   "cell_type": "code",
   "source": [
    "# Filling missing categorical values.\n",
    "categorical_columns = ['Aceto uptake', 'Margins', 'Vessels', 'Lesion size', 'Iodine uptake']\n",
    "for col in categorical_columns:\n",
    "    mode_value = selected_metadata[col].mode()[0]\n",
    "    selected_metadata.fillna({ col: mode_value }, inplace=True)\n",
    "\n",
    "selected_metadata.isnull().sum()"
   ],
   "outputs": [],
   "execution_count": null
  },
  {
   "metadata": {},
   "cell_type": "code",
   "source": [
    "# Define mappings according to SwedeScore interpretation table.\n",
    "aceto_mapping = {\n",
    "    'Nil or transparent': 0,\n",
    "    'Thin, milky': 1,\n",
    "    'Distinct, stearin': 2\n",
    "}\n",
    "\n",
    "margins_mapping = {\n",
    "    'Nil or diffuse': 0,\n",
    "    'Sharp but irregular, jagged, satellites': 1,\n",
    "    'Sharp and even, difference in level': 2\n",
    "}\n",
    "\n",
    "vessels_mapping = {\n",
    "    'Absent': 1,\n",
    "    'Fine, regular': 0,\n",
    "    'Coarse or atypical vessels': 2\n",
    "}\n",
    "\n",
    "lesion_size_mapping = {\n",
    "    '< 5 mm': 0,\n",
    "    '5-15 mm or 2 quadrants': 1,\n",
    "    '>15 mm, 3-4 quadrants, or endocervically undefined': 2\n",
    "}\n",
    "\n",
    "iodine_mapping = {\n",
    "    'Brown': 0,\n",
    "    'Faintly or patchy yellow': 1,\n",
    "    'Distinctly yellow': 2,\n",
    "    'Unknown': np.nan,\n",
    "}\n",
    "\n",
    "# Apply mappings to convert categorical variables to numerical\n",
    "selected_metadata['Aceto uptake'] = selected_metadata['Aceto uptake'].map(aceto_mapping)\n",
    "selected_metadata['Margins'] = selected_metadata['Margins'].map(margins_mapping)\n",
    "selected_metadata['Vessels'] = selected_metadata['Vessels'].map(vessels_mapping)\n",
    "selected_metadata['Lesion size'] = selected_metadata['Lesion size'].map(lesion_size_mapping)\n",
    "selected_metadata['Iodine uptake'] = selected_metadata['Iodine uptake'].map(iodine_mapping)"
   ],
   "outputs": [],
   "execution_count": null
  },
  {
   "metadata": {},
   "cell_type": "code",
   "source": [
    "## Fill missing 'Iodine uptake' with the mode\n",
    "mode_iodine = selected_metadata['Iodine uptake'].mode()[0]\n",
    "selected_metadata.fillna({ 'Iodine uptake': mode_iodine }, inplace=True)"
   ],
   "outputs": [],
   "execution_count": null
  },
  {
   "metadata": {},
   "cell_type": "code",
   "source": "selected_metadata.head()",
   "outputs": [],
   "execution_count": null
  },
  {
   "metadata": {},
   "cell_type": "code",
   "source": [
    "# Identify invalid SwedeFinal values\n",
    "invalid_indices = selected_metadata[(selected_metadata['SwedeFinal'] < 0) | (selected_metadata['SwedeFinal'] > 10)].index\n",
    "print(f\"Number of invalid SwedeFinal entries: {len(invalid_indices)}\")"
   ],
   "outputs": [],
   "execution_count": null
  },
  {
   "metadata": {},
   "cell_type": "code",
   "source": [
    "class_counts = metadata['SwedeFinal'].value_counts()\n",
    "# Plot histogram\n",
    "plt.figure(figsize=(10, 6))\n",
    "sns.countplot(data=selected_metadata, x='SwedeFinal', order=class_counts.index)\n",
    "plt.title('Distribution of SwedeFinal Values (Before Fixing)')\n",
    "plt.xlabel('SwedeFinal Score')\n",
    "plt.ylabel('Count')\n",
    "plt.show()"
   ],
   "outputs": [],
   "execution_count": null
  },
  {
   "metadata": {},
   "cell_type": "code",
   "source": [
    "# List of columns contributing to SwedeFinal score\n",
    "score_columns = ['Aceto uptake', 'Margins', 'Vessels', 'Lesion size', 'Iodine uptake']\n",
    "\n",
    "# Recalculate SwedeFinal for invalid entries\n",
    "selected_metadata.loc[invalid_indices, 'SwedeFinal'] = selected_metadata.loc[invalid_indices, score_columns].sum(axis=1)"
   ],
   "outputs": [],
   "execution_count": null
  },
  {
   "metadata": {},
   "cell_type": "code",
   "source": [
    "invalid_indices_after = selected_metadata[(selected_metadata['SwedeFinal'] < 0) | (selected_metadata['SwedeFinal'] > 10)].index\n",
    "print(f\"Number of invalid SwedeFinal entries after recalculation: {len(invalid_indices_after)}\")"
   ],
   "outputs": [],
   "execution_count": null
  },
  {
   "metadata": {},
   "cell_type": "code",
   "source": [
    "class_counts = metadata['SwedeFinal'].value_counts()\n",
    "# Plot histogram\n",
    "plt.figure(figsize=(10, 6))\n",
    "sns.countplot(data=selected_metadata, x='SwedeFinal', order=class_counts.index)\n",
    "plt.title('Distribution of SwedeFinal Values (Before Fixing)')\n",
    "plt.xlabel('SwedeFinal Score')\n",
    "plt.ylabel('Count')\n",
    "plt.show()"
   ],
   "outputs": [],
   "execution_count": null
  },
  {
   "metadata": {},
   "cell_type": "code",
   "source": [
    "# Save data frame for further usage.\n",
    "selected_metadata.to_csv('./data/source.csv');"
   ],
   "outputs": [],
   "execution_count": null
  }
 ],
 "metadata": {
  "kernelspec": {
   "display_name": "Python 3.11.8 64-bit",
   "language": "python",
   "name": "python3"
  },
  "language_info": {
   "codemirror_mode": {
    "name": "ipython",
    "version": 3
   },
   "file_extension": ".py",
   "mimetype": "text/x-python",
   "name": "python",
   "nbconvert_exporter": "python",
   "pygments_lexer": "ipython3",
   "version": "3.11.8"
  },
  "orig_nbformat": 4,
  "vscode": {
   "interpreter": {
    "hash": "1a1af0ee75eeea9e2e1ee996c87e7a2b11a0bebd85af04bb136d915cefc0abce"
   }
  }
 },
 "nbformat": 4,
 "nbformat_minor": 2
}
