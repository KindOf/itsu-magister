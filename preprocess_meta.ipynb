{
 "cells": [
  {
   "cell_type": "code",
   "metadata": {
    "ExecuteTime": {
     "end_time": "2024-12-02T18:05:42.012212Z",
     "start_time": "2024-12-02T18:05:42.008343Z"
    }
   },
   "source": [
    "import pandas as pd\n",
    "import numpy as np\n",
    "import matplotlib.pyplot as plt\n",
    "import seaborn as sns"
   ],
   "outputs": [],
   "execution_count": 143
  },
  {
   "metadata": {},
   "cell_type": "markdown",
   "source": "# 1. Load the metadata"
  },
  {
   "cell_type": "code",
   "metadata": {
    "ExecuteTime": {
     "end_time": "2024-12-02T18:05:42.138536Z",
     "start_time": "2024-12-02T18:05:42.023514Z"
    }
   },
   "source": [
    "metadata = pd.read_excel('./data/metadata.xlsx', skiprows=1)\n",
    "metadata.head()"
   ],
   "outputs": [
    {
     "data": {
      "text/plain": [
       "   Case Number CaseID       HPV  Adequacy Reason  \\\n",
       "0            1   AAAW  Positive  Adequate    NaN   \n",
       "1            2   AADE  Negative  Adequate    NaN   \n",
       "2            3   AADG  Negative  Adequate    NaN   \n",
       "3            4   AAEG  Negative  Adequate    NaN   \n",
       "4            5   AAER  Positive  Adequate    NaN   \n",
       "\n",
       "  Squamocolumnar junction visibility Transformation zone  \\\n",
       "0                 Completely visible              Type 1   \n",
       "1                 Completely visible              Type 1   \n",
       "2                 Completely visible              Type 1   \n",
       "3                 Completely visible              Type 1   \n",
       "4                 Completely visible              Type 2   \n",
       "\n",
       "  Original squamous epithelium Columnar epithelium  \\\n",
       "0                       Mature       Ectopy absent   \n",
       "1                       Mature      Ectopy present   \n",
       "2                       Mature       Ectopy absent   \n",
       "3                       Mature       Ectopy absent   \n",
       "4                       Mature                 NaN   \n",
       "\n",
       "  Metaplastic squamous epithelium  ... Additional miscellaneous finding  \\\n",
       "0                 Nabothian cysts  ...                              NaN   \n",
       "1          Crypt (gland) openings  ...                              NaN   \n",
       "2          Crypt (gland) openings  ...                              NaN   \n",
       "3                             NaN  ...                              NaN   \n",
       "4                             NaN  ...                              NaN   \n",
       "\n",
       "         Aceto uptake         Margins        Vessels  \\\n",
       "0  Nil or transparent  Nil or diffuse  Fine, regular   \n",
       "1  Nil or transparent  Nil or diffuse  Fine, regular   \n",
       "2  Nil or transparent  Nil or diffuse         Absent   \n",
       "3  Nil or transparent  Nil or diffuse  Fine, regular   \n",
       "4  Nil or transparent  Nil or diffuse         Absent   \n",
       "\n",
       "                                         Lesion size  \\\n",
       "0                                             < 5 mm   \n",
       "1                                             < 5 mm   \n",
       "2                                             < 5 mm   \n",
       "3                                             < 5 mm   \n",
       "4  >15 mm, 3-4 quadrants, or endocervically undef...   \n",
       "\n",
       "              Iodine uptake SwedeFinal               Provisional diagnosis  \\\n",
       "0  Faintly or patchy yellow          1  Type 1 transformation zone; normal   \n",
       "1                     Brown          0  Type 1 transformation zone; normal   \n",
       "2                     Brown          1  Type 1 transformation zone; normal   \n",
       "3                     Brown          0  Type 1 transformation zone; normal   \n",
       "4  Faintly or patchy yellow          4  Type 2 transformation zone; normal   \n",
       "\n",
       "                                Management Histopathology  \n",
       "0  Repeat HPV test/colposcopy after 1 year       Not done  \n",
       "1          Routine screening after 5 years       Not done  \n",
       "2          Routine screening after 5 years       Not done  \n",
       "3          Routine screening after 5 years       Not done  \n",
       "4  Repeat HPV test/colposcopy after 1 year       Not done  \n",
       "\n",
       "[5 rows x 43 columns]"
      ],
      "text/html": [
       "<div>\n",
       "<style scoped>\n",
       "    .dataframe tbody tr th:only-of-type {\n",
       "        vertical-align: middle;\n",
       "    }\n",
       "\n",
       "    .dataframe tbody tr th {\n",
       "        vertical-align: top;\n",
       "    }\n",
       "\n",
       "    .dataframe thead th {\n",
       "        text-align: right;\n",
       "    }\n",
       "</style>\n",
       "<table border=\"1\" class=\"dataframe\">\n",
       "  <thead>\n",
       "    <tr style=\"text-align: right;\">\n",
       "      <th></th>\n",
       "      <th>Case Number</th>\n",
       "      <th>CaseID</th>\n",
       "      <th>HPV</th>\n",
       "      <th>Adequacy</th>\n",
       "      <th>Reason</th>\n",
       "      <th>Squamocolumnar junction visibility</th>\n",
       "      <th>Transformation zone</th>\n",
       "      <th>Original squamous epithelium</th>\n",
       "      <th>Columnar epithelium</th>\n",
       "      <th>Metaplastic squamous epithelium</th>\n",
       "      <th>...</th>\n",
       "      <th>Additional miscellaneous finding</th>\n",
       "      <th>Aceto uptake</th>\n",
       "      <th>Margins</th>\n",
       "      <th>Vessels</th>\n",
       "      <th>Lesion size</th>\n",
       "      <th>Iodine uptake</th>\n",
       "      <th>SwedeFinal</th>\n",
       "      <th>Provisional diagnosis</th>\n",
       "      <th>Management</th>\n",
       "      <th>Histopathology</th>\n",
       "    </tr>\n",
       "  </thead>\n",
       "  <tbody>\n",
       "    <tr>\n",
       "      <th>0</th>\n",
       "      <td>1</td>\n",
       "      <td>AAAW</td>\n",
       "      <td>Positive</td>\n",
       "      <td>Adequate</td>\n",
       "      <td>NaN</td>\n",
       "      <td>Completely visible</td>\n",
       "      <td>Type 1</td>\n",
       "      <td>Mature</td>\n",
       "      <td>Ectopy absent</td>\n",
       "      <td>Nabothian cysts</td>\n",
       "      <td>...</td>\n",
       "      <td>NaN</td>\n",
       "      <td>Nil or transparent</td>\n",
       "      <td>Nil or diffuse</td>\n",
       "      <td>Fine, regular</td>\n",
       "      <td>&lt; 5 mm</td>\n",
       "      <td>Faintly or patchy yellow</td>\n",
       "      <td>1</td>\n",
       "      <td>Type 1 transformation zone; normal</td>\n",
       "      <td>Repeat HPV test/colposcopy after 1 year</td>\n",
       "      <td>Not done</td>\n",
       "    </tr>\n",
       "    <tr>\n",
       "      <th>1</th>\n",
       "      <td>2</td>\n",
       "      <td>AADE</td>\n",
       "      <td>Negative</td>\n",
       "      <td>Adequate</td>\n",
       "      <td>NaN</td>\n",
       "      <td>Completely visible</td>\n",
       "      <td>Type 1</td>\n",
       "      <td>Mature</td>\n",
       "      <td>Ectopy present</td>\n",
       "      <td>Crypt (gland) openings</td>\n",
       "      <td>...</td>\n",
       "      <td>NaN</td>\n",
       "      <td>Nil or transparent</td>\n",
       "      <td>Nil or diffuse</td>\n",
       "      <td>Fine, regular</td>\n",
       "      <td>&lt; 5 mm</td>\n",
       "      <td>Brown</td>\n",
       "      <td>0</td>\n",
       "      <td>Type 1 transformation zone; normal</td>\n",
       "      <td>Routine screening after 5 years</td>\n",
       "      <td>Not done</td>\n",
       "    </tr>\n",
       "    <tr>\n",
       "      <th>2</th>\n",
       "      <td>3</td>\n",
       "      <td>AADG</td>\n",
       "      <td>Negative</td>\n",
       "      <td>Adequate</td>\n",
       "      <td>NaN</td>\n",
       "      <td>Completely visible</td>\n",
       "      <td>Type 1</td>\n",
       "      <td>Mature</td>\n",
       "      <td>Ectopy absent</td>\n",
       "      <td>Crypt (gland) openings</td>\n",
       "      <td>...</td>\n",
       "      <td>NaN</td>\n",
       "      <td>Nil or transparent</td>\n",
       "      <td>Nil or diffuse</td>\n",
       "      <td>Absent</td>\n",
       "      <td>&lt; 5 mm</td>\n",
       "      <td>Brown</td>\n",
       "      <td>1</td>\n",
       "      <td>Type 1 transformation zone; normal</td>\n",
       "      <td>Routine screening after 5 years</td>\n",
       "      <td>Not done</td>\n",
       "    </tr>\n",
       "    <tr>\n",
       "      <th>3</th>\n",
       "      <td>4</td>\n",
       "      <td>AAEG</td>\n",
       "      <td>Negative</td>\n",
       "      <td>Adequate</td>\n",
       "      <td>NaN</td>\n",
       "      <td>Completely visible</td>\n",
       "      <td>Type 1</td>\n",
       "      <td>Mature</td>\n",
       "      <td>Ectopy absent</td>\n",
       "      <td>NaN</td>\n",
       "      <td>...</td>\n",
       "      <td>NaN</td>\n",
       "      <td>Nil or transparent</td>\n",
       "      <td>Nil or diffuse</td>\n",
       "      <td>Fine, regular</td>\n",
       "      <td>&lt; 5 mm</td>\n",
       "      <td>Brown</td>\n",
       "      <td>0</td>\n",
       "      <td>Type 1 transformation zone; normal</td>\n",
       "      <td>Routine screening after 5 years</td>\n",
       "      <td>Not done</td>\n",
       "    </tr>\n",
       "    <tr>\n",
       "      <th>4</th>\n",
       "      <td>5</td>\n",
       "      <td>AAER</td>\n",
       "      <td>Positive</td>\n",
       "      <td>Adequate</td>\n",
       "      <td>NaN</td>\n",
       "      <td>Completely visible</td>\n",
       "      <td>Type 2</td>\n",
       "      <td>Mature</td>\n",
       "      <td>NaN</td>\n",
       "      <td>NaN</td>\n",
       "      <td>...</td>\n",
       "      <td>NaN</td>\n",
       "      <td>Nil or transparent</td>\n",
       "      <td>Nil or diffuse</td>\n",
       "      <td>Absent</td>\n",
       "      <td>&gt;15 mm, 3-4 quadrants, or endocervically undef...</td>\n",
       "      <td>Faintly or patchy yellow</td>\n",
       "      <td>4</td>\n",
       "      <td>Type 2 transformation zone; normal</td>\n",
       "      <td>Repeat HPV test/colposcopy after 1 year</td>\n",
       "      <td>Not done</td>\n",
       "    </tr>\n",
       "  </tbody>\n",
       "</table>\n",
       "<p>5 rows × 43 columns</p>\n",
       "</div>"
      ]
     },
     "execution_count": 144,
     "metadata": {},
     "output_type": "execute_result"
    }
   ],
   "execution_count": 144
  },
  {
   "metadata": {},
   "cell_type": "markdown",
   "source": "# 2. Load the metadata"
  },
  {
   "metadata": {
    "ExecuteTime": {
     "end_time": "2024-12-02T18:05:42.203462Z",
     "start_time": "2024-12-02T18:05:42.194524Z"
    }
   },
   "cell_type": "code",
   "source": [
    "selected_columns = ['Case Number', 'CaseID', 'Aceto uptake', 'Margins', 'Vessels', 'Lesion size', 'Iodine uptake', 'SwedeFinal']\n",
    "selected_metadata = metadata[selected_columns]\n",
    "selected_metadata.head()"
   ],
   "outputs": [
    {
     "data": {
      "text/plain": [
       "   Case Number CaseID        Aceto uptake         Margins        Vessels  \\\n",
       "0            1   AAAW  Nil or transparent  Nil or diffuse  Fine, regular   \n",
       "1            2   AADE  Nil or transparent  Nil or diffuse  Fine, regular   \n",
       "2            3   AADG  Nil or transparent  Nil or diffuse         Absent   \n",
       "3            4   AAEG  Nil or transparent  Nil or diffuse  Fine, regular   \n",
       "4            5   AAER  Nil or transparent  Nil or diffuse         Absent   \n",
       "\n",
       "                                         Lesion size  \\\n",
       "0                                             < 5 mm   \n",
       "1                                             < 5 mm   \n",
       "2                                             < 5 mm   \n",
       "3                                             < 5 mm   \n",
       "4  >15 mm, 3-4 quadrants, or endocervically undef...   \n",
       "\n",
       "              Iodine uptake  SwedeFinal  \n",
       "0  Faintly or patchy yellow           1  \n",
       "1                     Brown           0  \n",
       "2                     Brown           1  \n",
       "3                     Brown           0  \n",
       "4  Faintly or patchy yellow           4  "
      ],
      "text/html": [
       "<div>\n",
       "<style scoped>\n",
       "    .dataframe tbody tr th:only-of-type {\n",
       "        vertical-align: middle;\n",
       "    }\n",
       "\n",
       "    .dataframe tbody tr th {\n",
       "        vertical-align: top;\n",
       "    }\n",
       "\n",
       "    .dataframe thead th {\n",
       "        text-align: right;\n",
       "    }\n",
       "</style>\n",
       "<table border=\"1\" class=\"dataframe\">\n",
       "  <thead>\n",
       "    <tr style=\"text-align: right;\">\n",
       "      <th></th>\n",
       "      <th>Case Number</th>\n",
       "      <th>CaseID</th>\n",
       "      <th>Aceto uptake</th>\n",
       "      <th>Margins</th>\n",
       "      <th>Vessels</th>\n",
       "      <th>Lesion size</th>\n",
       "      <th>Iodine uptake</th>\n",
       "      <th>SwedeFinal</th>\n",
       "    </tr>\n",
       "  </thead>\n",
       "  <tbody>\n",
       "    <tr>\n",
       "      <th>0</th>\n",
       "      <td>1</td>\n",
       "      <td>AAAW</td>\n",
       "      <td>Nil or transparent</td>\n",
       "      <td>Nil or diffuse</td>\n",
       "      <td>Fine, regular</td>\n",
       "      <td>&lt; 5 mm</td>\n",
       "      <td>Faintly or patchy yellow</td>\n",
       "      <td>1</td>\n",
       "    </tr>\n",
       "    <tr>\n",
       "      <th>1</th>\n",
       "      <td>2</td>\n",
       "      <td>AADE</td>\n",
       "      <td>Nil or transparent</td>\n",
       "      <td>Nil or diffuse</td>\n",
       "      <td>Fine, regular</td>\n",
       "      <td>&lt; 5 mm</td>\n",
       "      <td>Brown</td>\n",
       "      <td>0</td>\n",
       "    </tr>\n",
       "    <tr>\n",
       "      <th>2</th>\n",
       "      <td>3</td>\n",
       "      <td>AADG</td>\n",
       "      <td>Nil or transparent</td>\n",
       "      <td>Nil or diffuse</td>\n",
       "      <td>Absent</td>\n",
       "      <td>&lt; 5 mm</td>\n",
       "      <td>Brown</td>\n",
       "      <td>1</td>\n",
       "    </tr>\n",
       "    <tr>\n",
       "      <th>3</th>\n",
       "      <td>4</td>\n",
       "      <td>AAEG</td>\n",
       "      <td>Nil or transparent</td>\n",
       "      <td>Nil or diffuse</td>\n",
       "      <td>Fine, regular</td>\n",
       "      <td>&lt; 5 mm</td>\n",
       "      <td>Brown</td>\n",
       "      <td>0</td>\n",
       "    </tr>\n",
       "    <tr>\n",
       "      <th>4</th>\n",
       "      <td>5</td>\n",
       "      <td>AAER</td>\n",
       "      <td>Nil or transparent</td>\n",
       "      <td>Nil or diffuse</td>\n",
       "      <td>Absent</td>\n",
       "      <td>&gt;15 mm, 3-4 quadrants, or endocervically undef...</td>\n",
       "      <td>Faintly or patchy yellow</td>\n",
       "      <td>4</td>\n",
       "    </tr>\n",
       "  </tbody>\n",
       "</table>\n",
       "</div>"
      ]
     },
     "execution_count": 145,
     "metadata": {},
     "output_type": "execute_result"
    }
   ],
   "execution_count": 145
  },
  {
   "metadata": {},
   "cell_type": "markdown",
   "source": "# 3. Exploring metadata"
  },
  {
   "metadata": {
    "ExecuteTime": {
     "end_time": "2024-12-02T18:05:42.293015Z",
     "start_time": "2024-12-02T18:05:42.288638Z"
    }
   },
   "cell_type": "code",
   "source": "selected_metadata.isnull().sum()",
   "outputs": [
    {
     "data": {
      "text/plain": [
       "Case Number      0\n",
       "CaseID           0\n",
       "Aceto uptake     2\n",
       "Margins          2\n",
       "Vessels          2\n",
       "Lesion size      2\n",
       "Iodine uptake    6\n",
       "SwedeFinal       0\n",
       "dtype: int64"
      ]
     },
     "execution_count": 146,
     "metadata": {},
     "output_type": "execute_result"
    }
   ],
   "execution_count": 146
  },
  {
   "metadata": {
    "ExecuteTime": {
     "end_time": "2024-12-02T18:05:42.391558Z",
     "start_time": "2024-12-02T18:05:42.382535Z"
    }
   },
   "cell_type": "code",
   "source": [
    "# Filling missing categorical values.\n",
    "categorical_columns = ['Aceto uptake', 'Margins', 'Vessels', 'Lesion size', 'Iodine uptake']\n",
    "for col in categorical_columns:\n",
    "    mode_value = selected_metadata[col].mode()[0]\n",
    "    selected_metadata.fillna({ col: mode_value }, inplace=True)\n",
    "\n",
    "selected_metadata.isnull().sum()"
   ],
   "outputs": [
    {
     "data": {
      "text/plain": [
       "Case Number      0\n",
       "CaseID           0\n",
       "Aceto uptake     0\n",
       "Margins          0\n",
       "Vessels          0\n",
       "Lesion size      0\n",
       "Iodine uptake    0\n",
       "SwedeFinal       0\n",
       "dtype: int64"
      ]
     },
     "execution_count": 147,
     "metadata": {},
     "output_type": "execute_result"
    }
   ],
   "execution_count": 147
  },
  {
   "metadata": {
    "ExecuteTime": {
     "end_time": "2024-12-02T18:05:42.471462Z",
     "start_time": "2024-12-02T18:05:42.464813Z"
    }
   },
   "cell_type": "code",
   "source": [
    "# Define mappings according to SwedeScore interpretation table.\n",
    "aceto_mapping = {\n",
    "    'Nil or transparent': 0,\n",
    "    'Thin, milky': 1,\n",
    "    'Distinct, stearin': 2\n",
    "}\n",
    "\n",
    "margins_mapping = {\n",
    "    'Nil or diffuse': 0,\n",
    "    'Sharp but irregular, jagged, satellites': 1,\n",
    "    'Sharp and even, difference in level': 2\n",
    "}\n",
    "\n",
    "vessels_mapping = {\n",
    "    'Absent': 1,\n",
    "    'Fine, regular': 0,\n",
    "    'Coarse or atypical vessels': 2\n",
    "}\n",
    "\n",
    "lesion_size_mapping = {\n",
    "    '< 5 mm': 0,\n",
    "    '5-15 mm or 2 quadrants': 1,\n",
    "    '>15 mm, 3-4 quadrants, or endocervically undefined': 2\n",
    "}\n",
    "\n",
    "iodine_mapping = {\n",
    "    'Brown': 0,\n",
    "    'Faintly or patchy yellow': 1,\n",
    "    'Distinctly yellow': 2,\n",
    "    'Unknown': np.nan,\n",
    "}\n",
    "\n",
    "# Apply mappings to convert categorical variables to numerical\n",
    "selected_metadata['Aceto uptake'] = selected_metadata['Aceto uptake'].map(aceto_mapping)\n",
    "selected_metadata['Margins'] = selected_metadata['Margins'].map(margins_mapping)\n",
    "selected_metadata['Vessels'] = selected_metadata['Vessels'].map(vessels_mapping)\n",
    "selected_metadata['Lesion size'] = selected_metadata['Lesion size'].map(lesion_size_mapping)\n",
    "selected_metadata['Iodine uptake'] = selected_metadata['Iodine uptake'].map(iodine_mapping)"
   ],
   "outputs": [],
   "execution_count": 148
  },
  {
   "metadata": {
    "ExecuteTime": {
     "end_time": "2024-12-02T18:05:42.516878Z",
     "start_time": "2024-12-02T18:05:42.513213Z"
    }
   },
   "cell_type": "code",
   "source": [
    "## Fill missing 'Iodine uptake' with the mode\n",
    "mode_iodine = selected_metadata['Iodine uptake'].mode()[0]\n",
    "selected_metadata.fillna({ 'Iodine uptake': mode_iodine }, inplace=True)"
   ],
   "outputs": [],
   "execution_count": 149
  },
  {
   "metadata": {
    "ExecuteTime": {
     "end_time": "2024-12-02T18:05:42.541200Z",
     "start_time": "2024-12-02T18:05:42.533280Z"
    }
   },
   "cell_type": "code",
   "source": "selected_metadata.head()",
   "outputs": [
    {
     "data": {
      "text/plain": [
       "   Case Number CaseID  Aceto uptake  Margins  Vessels  Lesion size  \\\n",
       "0            1   AAAW             0        0        0            0   \n",
       "1            2   AADE             0        0        0            0   \n",
       "2            3   AADG             0        0        1            0   \n",
       "3            4   AAEG             0        0        0            0   \n",
       "4            5   AAER             0        0        1            2   \n",
       "\n",
       "   Iodine uptake  SwedeFinal  \n",
       "0            1.0           1  \n",
       "1            0.0           0  \n",
       "2            0.0           1  \n",
       "3            0.0           0  \n",
       "4            1.0           4  "
      ],
      "text/html": [
       "<div>\n",
       "<style scoped>\n",
       "    .dataframe tbody tr th:only-of-type {\n",
       "        vertical-align: middle;\n",
       "    }\n",
       "\n",
       "    .dataframe tbody tr th {\n",
       "        vertical-align: top;\n",
       "    }\n",
       "\n",
       "    .dataframe thead th {\n",
       "        text-align: right;\n",
       "    }\n",
       "</style>\n",
       "<table border=\"1\" class=\"dataframe\">\n",
       "  <thead>\n",
       "    <tr style=\"text-align: right;\">\n",
       "      <th></th>\n",
       "      <th>Case Number</th>\n",
       "      <th>CaseID</th>\n",
       "      <th>Aceto uptake</th>\n",
       "      <th>Margins</th>\n",
       "      <th>Vessels</th>\n",
       "      <th>Lesion size</th>\n",
       "      <th>Iodine uptake</th>\n",
       "      <th>SwedeFinal</th>\n",
       "    </tr>\n",
       "  </thead>\n",
       "  <tbody>\n",
       "    <tr>\n",
       "      <th>0</th>\n",
       "      <td>1</td>\n",
       "      <td>AAAW</td>\n",
       "      <td>0</td>\n",
       "      <td>0</td>\n",
       "      <td>0</td>\n",
       "      <td>0</td>\n",
       "      <td>1.0</td>\n",
       "      <td>1</td>\n",
       "    </tr>\n",
       "    <tr>\n",
       "      <th>1</th>\n",
       "      <td>2</td>\n",
       "      <td>AADE</td>\n",
       "      <td>0</td>\n",
       "      <td>0</td>\n",
       "      <td>0</td>\n",
       "      <td>0</td>\n",
       "      <td>0.0</td>\n",
       "      <td>0</td>\n",
       "    </tr>\n",
       "    <tr>\n",
       "      <th>2</th>\n",
       "      <td>3</td>\n",
       "      <td>AADG</td>\n",
       "      <td>0</td>\n",
       "      <td>0</td>\n",
       "      <td>1</td>\n",
       "      <td>0</td>\n",
       "      <td>0.0</td>\n",
       "      <td>1</td>\n",
       "    </tr>\n",
       "    <tr>\n",
       "      <th>3</th>\n",
       "      <td>4</td>\n",
       "      <td>AAEG</td>\n",
       "      <td>0</td>\n",
       "      <td>0</td>\n",
       "      <td>0</td>\n",
       "      <td>0</td>\n",
       "      <td>0.0</td>\n",
       "      <td>0</td>\n",
       "    </tr>\n",
       "    <tr>\n",
       "      <th>4</th>\n",
       "      <td>5</td>\n",
       "      <td>AAER</td>\n",
       "      <td>0</td>\n",
       "      <td>0</td>\n",
       "      <td>1</td>\n",
       "      <td>2</td>\n",
       "      <td>1.0</td>\n",
       "      <td>4</td>\n",
       "    </tr>\n",
       "  </tbody>\n",
       "</table>\n",
       "</div>"
      ]
     },
     "execution_count": 150,
     "metadata": {},
     "output_type": "execute_result"
    }
   ],
   "execution_count": 150
  },
  {
   "metadata": {
    "ExecuteTime": {
     "end_time": "2024-12-02T18:05:42.592918Z",
     "start_time": "2024-12-02T18:05:42.589253Z"
    }
   },
   "cell_type": "code",
   "source": [
    "# Identify invalid SwedeFinal values\n",
    "invalid_indices = selected_metadata[(selected_metadata['SwedeFinal'] < 0) | (selected_metadata['SwedeFinal'] > 10)].index\n",
    "print(f\"Number of invalid SwedeFinal entries: {len(invalid_indices)}\")"
   ],
   "outputs": [
    {
     "name": "stdout",
     "output_type": "stream",
     "text": [
      "Number of invalid SwedeFinal entries: 50\n"
     ]
    }
   ],
   "execution_count": 151
  },
  {
   "metadata": {
    "ExecuteTime": {
     "end_time": "2024-12-02T18:05:42.836411Z",
     "start_time": "2024-12-02T18:05:42.635782Z"
    }
   },
   "cell_type": "code",
   "source": [
    "class_counts = metadata['SwedeFinal'].value_counts()\n",
    "# Plot histogram\n",
    "plt.figure(figsize=(10, 6))\n",
    "sns.countplot(data=selected_metadata, x='SwedeFinal', order=class_counts.index)\n",
    "plt.title('Distribution of SwedeFinal Values (Before Fixing)')\n",
    "plt.xlabel('SwedeFinal Score')\n",
    "plt.ylabel('Count')\n",
    "plt.show()"
   ],
   "outputs": [
    {
     "data": {
      "text/plain": [
       "<Figure size 1000x600 with 1 Axes>"
      ],
      "image/png": "[encoded data removed]"
     },
     "metadata": {},
     "output_type": "display_data"
    }
   ],
   "execution_count": 152
  },
  {
   "metadata": {
    "ExecuteTime": {
     "end_time": "2024-12-02T18:05:42.846642Z",
     "start_time": "2024-12-02T18:05:42.841446Z"
    }
   },
   "cell_type": "code",
   "source": [
    "# List of columns contributing to SwedeFinal score\n",
    "score_columns = ['Aceto uptake', 'Margins', 'Vessels', 'Lesion size', 'Iodine uptake']\n",
    "\n",
    "# Recalculate SwedeFinal for invalid entries\n",
    "selected_metadata.loc[invalid_indices, 'SwedeFinal'] = selected_metadata.loc[invalid_indices, score_columns].sum(axis=1)"
   ],
   "outputs": [],
   "execution_count": 153
  },
  {
   "metadata": {
    "ExecuteTime": {
     "end_time": "2024-12-02T18:05:42.868620Z",
     "start_time": "2024-12-02T18:05:42.864661Z"
    }
   },
   "cell_type": "code",
   "source": [
    "invalid_indices_after = selected_metadata[(selected_metadata['SwedeFinal'] < 0) | (selected_metadata['SwedeFinal'] > 10)].index\n",
    "print(f\"Number of invalid SwedeFinal entries after recalculation: {len(invalid_indices_after)}\")"
   ],
   "outputs": [
    {
     "name": "stdout",
     "output_type": "stream",
     "text": [
      "Number of invalid SwedeFinal entries after recalculation: 0\n"
     ]
    }
   ],
   "execution_count": 154
  },
  {
   "metadata": {
    "ExecuteTime": {
     "end_time": "2024-12-02T18:05:43.145462Z",
     "start_time": "2024-12-02T18:05:42.938357Z"
    }
   },
   "cell_type": "code",
   "source": [
    "class_counts = metadata['SwedeFinal'].value_counts()\n",
    "# Plot histogram\n",
    "plt.figure(figsize=(10, 6))\n",
    "sns.countplot(data=selected_metadata, x='SwedeFinal', order=class_counts.index)\n",
    "plt.title('Distribution of SwedeFinal Values (Before Fixing)')\n",
    "plt.xlabel('SwedeFinal Score')\n",
    "plt.ylabel('Count')\n",
    "plt.show()"
   ],
   "outputs": [
    {
     "data": {
      "text/plain": [
       "<Figure size 1000x600 with 1 Axes>"
      ],
      "image/png": "[encoded data removed]"
     },
     "metadata": {},
     "output_type": "display_data"
    }
   ],
   "execution_count": 155
  },
  {
   "metadata": {
    "ExecuteTime": {
     "end_time": "2024-12-02T18:05:43.170179Z",
     "start_time": "2024-12-02T18:05:43.163991Z"
    }
   },
   "cell_type": "code",
   "source": [
    "# Save data frame for further usage.\n",
    "selected_metadata.to_csv('./data/source.csv');"
   ],
   "outputs": [],
   "execution_count": 156
  }
 ],
 "metadata": {
  "kernelspec": {
   "display_name": "Python 3.11.8 64-bit",
   "language": "python",
   "name": "python3"
  },
  "language_info": {
   "codemirror_mode": {
    "name": "ipython",
    "version": 3
   },
   "file_extension": ".py",
   "mimetype": "text/x-python",
   "name": "python",
   "nbconvert_exporter": "python",
   "pygments_lexer": "ipython3",
   "version": "3.11.8"
  },
  "orig_nbformat": 4,
  "vscode": {
   "interpreter": {
    "hash": "1a1af0ee75eeea9e2e1ee996c87e7a2b11a0bebd85af04bb136d915cefc0abce"
   }
  }
 },
 "nbformat": 4,
 "nbformat_minor": 2
}
